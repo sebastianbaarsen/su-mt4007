{
 "cells": [
  {
   "cell_type": "markdown",
   "id": "369c94e3-dbdb-4499-ba0c-e0c425421416",
   "metadata": {},
   "source": [
    "Calculate the price per square meter (ppsqm) for each apartment sold. That is, add a new variable to your table containing the data representing the ppsqm."
   ]
  },
  {
   "cell_type": "code",
   "execution_count": 5,
   "id": "e2d9941e-5ccc-4f4a-a0b0-76c383ebaaa8",
   "metadata": {
    "vscode": {
     "languageId": "r"
    }
   },
   "outputs": [],
   "source": [
    "\n",
    "library(dplyr)\n",
    "library(knitr)\n",
    "library(stats)\n",
    "library(base)\n",
    "library(ggplot2)\n",
    "\n",
    "data <- read.csv('/Users/sebastianbaarsen/Documents/GitHub/su-mt4007/Homeworks/Homework_2/data/Booli_sold.csv')\n",
    "data <- tibble(data)"
   ]
  },
  {
   "cell_type": "code",
   "execution_count": null,
   "id": "9d01de9f-41c1-40dd-a581-6a22cd806a20",
   "metadata": {
    "vscode": {
     "languageId": "r"
    }
   },
   "outputs": [],
   "source": []
  },
  {
   "cell_type": "markdown",
   "id": "b79ffc1b-03c3-43e6-af65-5f1678d5a34a",
   "metadata": {},
   "source": [
    "# 1, Added price per sqauremeter"
   ]
  },
  {
   "cell_type": "code",
   "execution_count": 6,
   "id": "f5ae77a6-c4e1-4005-aa75-71141f39e8f5",
   "metadata": {
    "vscode": {
     "languageId": "r"
    }
   },
   "outputs": [
    {
     "data": {
      "text/html": [
       "<table class=\"dataframe\">\n",
       "<caption>A tibble: 158 × 28</caption>\n",
       "<thead>\n",
       "\t<tr><th scope=col>listPrice</th><th scope=col>rent</th><th scope=col>livingArea</th><th scope=col>rooms</th><th scope=col>ppsqm</th><th scope=col>published</th><th scope=col>constructionYear</th><th scope=col>objectType</th><th scope=col>booliId</th><th scope=col>soldDate</th><th scope=col>⋯</th><th scope=col>location.position.latitude</th><th scope=col>location.position.longitude</th><th scope=col>location.position.isApproximate</th><th scope=col>location.region.municipalityName</th><th scope=col>location.region.countyName</th><th scope=col>location.distance.ocean</th><th scope=col>source.name</th><th scope=col>source.id</th><th scope=col>source.type</th><th scope=col>source.url</th></tr>\n",
       "\t<tr><th scope=col>&lt;int&gt;</th><th scope=col>&lt;int&gt;</th><th scope=col>&lt;dbl&gt;</th><th scope=col>&lt;dbl&gt;</th><th scope=col>&lt;dbl&gt;</th><th scope=col>&lt;chr&gt;</th><th scope=col>&lt;int&gt;</th><th scope=col>&lt;chr&gt;</th><th scope=col>&lt;int&gt;</th><th scope=col>&lt;chr&gt;</th><th scope=col>⋯</th><th scope=col>&lt;dbl&gt;</th><th scope=col>&lt;dbl&gt;</th><th scope=col>&lt;lgl&gt;</th><th scope=col>&lt;chr&gt;</th><th scope=col>&lt;chr&gt;</th><th scope=col>&lt;int&gt;</th><th scope=col>&lt;chr&gt;</th><th scope=col>&lt;int&gt;</th><th scope=col>&lt;chr&gt;</th><th scope=col>&lt;chr&gt;</th></tr>\n",
       "</thead>\n",
       "<tbody>\n",
       "\t<tr><td>3995000</td><td>4467</td><td> 73.0</td><td>3.0</td><td>52328.77</td><td>2018-10-15 13:33:18</td><td>1935</td><td>Lägenhet</td><td>3263989</td><td>2018-11-08</td><td>⋯</td><td>59.37103</td><td>18.05406</td><td>  NA</td><td>Stockholm</td><td>Stockholms län</td><td>260</td><td>MOHV                            </td><td>  1901865</td><td>Broker</td><td>http://www.mohv.se/                   </td></tr>\n",
       "\t<tr><td>1995000</td><td>1773</td><td> 36.0</td><td>1.0</td><td>65416.67</td><td>2018-10-05 14:29:28</td><td>1968</td><td>Lägenhet</td><td>3256231</td><td>2018-10-19</td><td>⋯</td><td>59.37124</td><td>18.05782</td><td>  NA</td><td>Stockholm</td><td>Stockholms län</td><td>218</td><td>Notar                           </td><td>     1566</td><td>Broker</td><td>http://www.notar.se/                  </td></tr>\n",
       "\t<tr><td>5100000</td><td>3839</td><td> 81.0</td><td>3.0</td><td>75432.10</td><td>2018-09-11 13:44:43</td><td>1936</td><td>Lägenhet</td><td>3236660</td><td>2018-09-27</td><td>⋯</td><td>59.37162</td><td>18.05472</td><td>  NA</td><td>Stockholm</td><td>Stockholms län</td><td>186</td><td>Historiska Hem AB               </td><td> 65645750</td><td>Broker</td><td>http://historiskahem.se/              </td></tr>\n",
       "\t<tr><td>5495000</td><td>4483</td><td>107.0</td><td>4.0</td><td>75233.64</td><td>2018-08-25 02:56:56</td><td>1936</td><td>Lägenhet</td><td>3224374</td><td>2018-09-06</td><td>⋯</td><td>59.37148</td><td>18.05388</td><td>  NA</td><td>Stockholm</td><td>Stockholms län</td><td>218</td><td>Notar                           </td><td>     1566</td><td>Broker</td><td>http://www.notar.se/                  </td></tr>\n",
       "\t<tr><td>1995000</td><td>1696</td><td> 29.0</td><td>1.0</td><td>82758.62</td><td>2018-06-15 17:16:19</td><td>1936</td><td>Lägenhet</td><td>3185496</td><td>2018-06-18</td><td>⋯</td><td>59.37216</td><td>18.05354</td><td>TRUE</td><td>Stockholm</td><td>Stockholms län</td><td>166</td><td>Mäklarhuset                     </td><td>      204</td><td>Broker</td><td>http://www.maklarhuset.se/            </td></tr>\n",
       "\t<tr><td>7495000</td><td>5923</td><td>125.0</td><td>4.0</td><td>71600.00</td><td>2018-06-09 10:51:27</td><td>1936</td><td>Lägenhet</td><td>3181135</td><td>2018-06-21</td><td>⋯</td><td>59.37148</td><td>18.05388</td><td>  NA</td><td>Stockholm</td><td>Stockholms län</td><td>218</td><td>Notar                           </td><td>     1566</td><td>Broker</td><td>http://www.notar.se/                  </td></tr>\n",
       "\t<tr><td>3975000</td><td>3324</td><td> 79.2</td><td>3.0</td><td>53030.30</td><td>2018-06-01 20:39:17</td><td>1968</td><td>Lägenhet</td><td>3175733</td><td>2018-06-16</td><td>⋯</td><td>59.37105</td><td>18.05837</td><td>TRUE</td><td>Stockholm</td><td>Stockholms län</td><td>246</td><td>Svensk Fastighetsförmedling     </td><td>      713</td><td>Broker</td><td>http://www.svenskfast.se/             </td></tr>\n",
       "\t<tr><td>3250000</td><td>2789</td><td> 64.3</td><td>2.0</td><td>51321.93</td><td>2018-05-31 20:07:51</td><td>1969</td><td>Lägenhet</td><td>3173741</td><td>2018-06-15</td><td>⋯</td><td>59.37095</td><td>18.05863</td><td>TRUE</td><td>Stockholm</td><td>Stockholms län</td><td>264</td><td>Innerstadsspecialisten AB       </td><td>     1130</td><td>Broker</td><td>http://www.innerspec.se/              </td></tr>\n",
       "\t<tr><td>3250000</td><td>2965</td><td> 64.3</td><td>2.0</td><td>48989.11</td><td>2018-05-25 20:46:58</td><td>1968</td><td>Lägenhet</td><td>3169052</td><td>2018-06-10</td><td>⋯</td><td>59.37095</td><td>18.05863</td><td>TRUE</td><td>Stockholm</td><td>Stockholms län</td><td>264</td><td>Notar                           </td><td>     1566</td><td>Broker</td><td>http://www.notar.se/                  </td></tr>\n",
       "\t<tr><td>5495000</td><td>6465</td><td> 96.0</td><td>3.0</td><td>56250.00</td><td>2018-05-19 12:47:47</td><td>1936</td><td>Lägenhet</td><td>3154871</td><td>2018-06-04</td><td>⋯</td><td>59.37119</td><td>18.05355</td><td>  NA</td><td>Stockholm</td><td>Stockholms län</td><td>255</td><td>Nestor Fastighetsmäkleri        </td><td>186499846</td><td>Broker</td><td>https://nestorfastighetsmakleri.se/   </td></tr>\n",
       "\t<tr><td>2295000</td><td>1743</td><td> 29.0</td><td>1.0</td><td>83448.28</td><td>2018-05-05 04:43:36</td><td>1935</td><td>Lägenhet</td><td>3125674</td><td>2018-05-19</td><td>⋯</td><td>59.37205</td><td>18.05499</td><td>TRUE</td><td>Stockholm</td><td>Stockholms län</td><td>136</td><td>Mäklarhuset                     </td><td>      204</td><td>Broker</td><td>http://www.maklarhuset.se/            </td></tr>\n",
       "\t<tr><td>2495000</td><td>2897</td><td> 47.0</td><td>2.0</td><td>69361.70</td><td>2018-05-11 22:35:39</td><td>1935</td><td>Lägenhet</td><td>3152236</td><td>2018-05-18</td><td>⋯</td><td>59.37227</td><td>18.05566</td><td>TRUE</td><td>Stockholm</td><td>Stockholms län</td><td>101</td><td>ERA                             </td><td>     1562</td><td>Broker</td><td>http://www.erasweden.com/             </td></tr>\n",
       "\t<tr><td>4750000</td><td>4537</td><td> 92.0</td><td>3.0</td><td>53260.87</td><td>2018-04-27 01:21:27</td><td>1935</td><td>Lägenhet</td><td>3138304</td><td>2018-05-16</td><td>⋯</td><td>59.37239</td><td>18.05248</td><td>TRUE</td><td>Stockholm</td><td>Stockholms län</td><td>181</td><td>Notar                           </td><td>     1566</td><td>Broker</td><td>http://www.notar.se/                  </td></tr>\n",
       "\t<tr><td>2695000</td><td>2595</td><td> 39.0</td><td>2.0</td><td>66923.08</td><td>2018-04-17 23:06:04</td><td>1936</td><td>Lägenhet</td><td>2353845</td><td>2018-05-01</td><td>⋯</td><td>59.37205</td><td>18.05405</td><td>TRUE</td><td>Stockholm</td><td>Stockholms län</td><td>164</td><td>Svensk Fastighetsförmedling     </td><td>      713</td><td>Broker</td><td>http://www.svenskfast.se/             </td></tr>\n",
       "\t<tr><td>6650000</td><td>4990</td><td> 97.0</td><td>4.0</td><td>61855.67</td><td>2018-01-13 09:41:44</td><td>1935</td><td>Lägenhet</td><td>3070240</td><td>2018-02-15</td><td>⋯</td><td>59.37205</td><td>18.05499</td><td>TRUE</td><td>Stockholm</td><td>Stockholms län</td><td>136</td><td>Notar                           </td><td>     1566</td><td>Broker</td><td>http://www.notar.se/                  </td></tr>\n",
       "\t<tr><td>2495000</td><td>2712</td><td> 44.0</td><td>2.0</td><td>62500.00</td><td>2018-02-02 14:09:15</td><td>1935</td><td>Lägenhet</td><td>3082673</td><td>2018-02-15</td><td>⋯</td><td>59.37227</td><td>18.05566</td><td>TRUE</td><td>Stockholm</td><td>Stockholms län</td><td>101</td><td>Notar                           </td><td>     1566</td><td>Broker</td><td>http://www.notar.se/                  </td></tr>\n",
       "\t<tr><td>2995000</td><td>2979</td><td> 50.0</td><td>2.5</td><td>66200.00</td><td>2018-01-26 18:30:21</td><td>1935</td><td>Lägenhet</td><td>3031449</td><td>2018-02-09</td><td>⋯</td><td>59.37164</td><td>18.05323</td><td>TRUE</td><td>Stockholm</td><td>Stockholms län</td><td>225</td><td>Fastighetsbyrån                 </td><td>     1573</td><td>Broker</td><td>http://www.fastighetsbyran.se/        </td></tr>\n",
       "\t<tr><td>3650000</td><td>2835</td><td> 60.9</td><td>2.0</td><td>59934.32</td><td>2017-11-17 17:50:10</td><td>1968</td><td>Lägenhet</td><td>3036006</td><td>2018-01-09</td><td>⋯</td><td>59.37142</td><td>18.05760</td><td>  NA</td><td>Stockholm</td><td>Stockholms län</td><td>196</td><td>Fastighetsbyrån                 </td><td>     1573</td><td>Broker</td><td>http://www.fastighetsbyran.se/        </td></tr>\n",
       "\t<tr><td>4060000</td><td>4191</td><td> 71.0</td><td>2.5</td><td>57183.10</td><td>2017-12-01 15:24:46</td><td>1935</td><td>Lägenhet</td><td>3052811</td><td>2017-12-20</td><td>⋯</td><td>59.37227</td><td>18.05566</td><td>TRUE</td><td>Stockholm</td><td>Stockholms län</td><td>101</td><td>Notar                           </td><td>     1566</td><td>Broker</td><td>http://www.notar.se/                  </td></tr>\n",
       "\t<tr><td>1995000</td><td>1880</td><td> 31.0</td><td>2.0</td><td>79032.26</td><td>2017-11-18 16:56:07</td><td>1936</td><td>Lägenhet</td><td>3045712</td><td>2017-12-05</td><td>⋯</td><td>59.37119</td><td>18.05355</td><td>  NA</td><td>Stockholm</td><td>Stockholms län</td><td>255</td><td>Notar                           </td><td>     1566</td><td>Broker</td><td>http://www.notar.se/                  </td></tr>\n",
       "\t<tr><td>5400000</td><td>3834</td><td> 93.4</td><td>4.0</td><td>57815.85</td><td>2017-10-27 18:41:18</td><td>1968</td><td>Lägenhet</td><td>3029353</td><td>2017-11-11</td><td>⋯</td><td>59.37153</td><td>18.05734</td><td>TRUE</td><td>Stockholm</td><td>Stockholms län</td><td>354</td><td><span style=white-space:pre-wrap>Karlsson &amp; Uddare               </span></td><td><span style=white-space:pre-wrap>     1619</span></td><td>Broker</td><td><span style=white-space:pre-wrap>http://www.karlssonuddare.se/         </span></td></tr>\n",
       "\t<tr><td>3475000</td><td>2965</td><td> 64.0</td><td>2.0</td><td>54296.88</td><td>2017-09-25 14:37:54</td><td>1968</td><td>Lägenhet</td><td>2406519</td><td>2017-11-01</td><td>⋯</td><td>59.37095</td><td>18.05863</td><td>TRUE</td><td>Stockholm</td><td>Stockholms län</td><td>264</td><td><span style=white-space:pre-wrap>Karlsson &amp; Uddare               </span></td><td><span style=white-space:pre-wrap>     1619</span></td><td>Broker</td><td><span style=white-space:pre-wrap>http://www.karlssonuddare.se/         </span></td></tr>\n",
       "\t<tr><td>3500000</td><td>3018</td><td> 59.0</td><td>2.0</td><td>58474.58</td><td>2017-10-08 22:00:34</td><td>1939</td><td>Lägenhet</td><td>3009093</td><td>2017-10-31</td><td>⋯</td><td>59.37139</td><td>18.05509</td><td>TRUE</td><td>Stockholm</td><td>Stockholms län</td><td>186</td><td>Notar                           </td><td>     1566</td><td>Broker</td><td>http://www.notar.se/                  </td></tr>\n",
       "\t<tr><td>2575000</td><td>2596</td><td> 39.0</td><td>1.5</td><td>66666.67</td><td>2017-10-13 18:02:02</td><td>1934</td><td>Lägenhet</td><td>3017655</td><td>2017-10-29</td><td>⋯</td><td>59.37139</td><td>18.05509</td><td>TRUE</td><td>Stockholm</td><td>Stockholms län</td><td>186</td><td>Erik Olsson Fastighetsförmedling</td><td>     1564</td><td>Broker</td><td>http://www.erikolsson.se/             </td></tr>\n",
       "\t<tr><td>2500000</td><td>1400</td><td> 35.0</td><td>1.0</td><td>73142.86</td><td>2017-09-08 15:22:24</td><td>1936</td><td>Lägenhet</td><td>2405043</td><td>2017-10-06</td><td>⋯</td><td>59.37148</td><td>18.05388</td><td>  NA</td><td>Stockholm</td><td>Stockholms län</td><td>218</td><td>HusmanHagberg                   </td><td>     1610</td><td>Broker</td><td>http://www.husmanhagberg.se/          </td></tr>\n",
       "\t<tr><td>2350000</td><td>2232</td><td> 37.0</td><td>2.0</td><td>70540.54</td><td>2017-09-15 20:52:01</td><td>1935</td><td>Lägenhet</td><td>2411825</td><td>2017-10-06</td><td>⋯</td><td>59.37178</td><td>18.05527</td><td>  NA</td><td>Stockholm</td><td>Stockholms län</td><td>161</td><td>Notar                           </td><td>     1566</td><td>Broker</td><td>http://www.notar.se/                  </td></tr>\n",
       "\t<tr><td>3495000</td><td>2270</td><td> 56.0</td><td>2.0</td><td>70535.71</td><td>2017-09-15 12:22:35</td><td>1935</td><td>Lägenhet</td><td>2410363</td><td>2017-09-28</td><td>⋯</td><td>59.37148</td><td>18.05388</td><td>  NA</td><td>Stockholm</td><td>Stockholms län</td><td>218</td><td>Vision Fastighetsmäkleri AB     </td><td>     1613</td><td>Broker</td><td>http://www.visionfastighetsmakleri.se/</td></tr>\n",
       "\t<tr><td>5095000</td><td>4829</td><td> 85.0</td><td>4.0</td><td>64117.65</td><td>2017-08-30 13:37:32</td><td>1935</td><td>Lägenhet</td><td>2389859</td><td>2017-09-12</td><td>⋯</td><td>59.37205</td><td>18.05405</td><td>TRUE</td><td>Stockholm</td><td>Stockholms län</td><td>164</td><td>Svensk Fastighetsförmedling     </td><td>      713</td><td>Broker</td><td>http://www.svenskfast.se/             </td></tr>\n",
       "\t<tr><td>4390000</td><td>3806</td><td> 76.0</td><td>3.0</td><td>59210.53</td><td>2017-07-19 10:24:25</td><td>1935</td><td>Lägenhet</td><td>2370691</td><td>2017-09-06</td><td>⋯</td><td>59.37178</td><td>18.05527</td><td>  NA</td><td>Stockholm</td><td>Stockholms län</td><td>161</td><td>Notar                           </td><td>     1566</td><td>Broker</td><td>http://www.notar.se/                  </td></tr>\n",
       "\t<tr><td>2595000</td><td>2232</td><td> 37.0</td><td>1.0</td><td>73378.38</td><td>2017-07-28 13:02:18</td><td>1939</td><td>Lägenhet</td><td>2374010</td><td>2017-09-01</td><td>⋯</td><td>59.37178</td><td>18.05527</td><td>  NA</td><td>Stockholm</td><td>Stockholms län</td><td>161</td><td>Svensk Fastighetsförmedling     </td><td>      713</td><td>Broker</td><td>http://www.svenskfast.se/             </td></tr>\n",
       "\t<tr><td>⋮</td><td>⋮</td><td>⋮</td><td>⋮</td><td>⋮</td><td>⋮</td><td>⋮</td><td>⋮</td><td>⋮</td><td>⋮</td><td>⋱</td><td>⋮</td><td>⋮</td><td>⋮</td><td>⋮</td><td>⋮</td><td>⋮</td><td>⋮</td><td>⋮</td><td>⋮</td><td>⋮</td></tr>\n",
       "\t<tr><td>2395000</td><td>2803</td><td> 47.5</td><td>2.0</td><td>51157.89</td><td>2014-02-07 14:38:41</td><td>1935</td><td>Lägenhet</td><td>1587338</td><td>2014-02-20</td><td>⋯</td><td>59.37205</td><td>18.05405</td><td>TRUE</td><td>Stockholm</td><td>Stockholms län</td><td>164</td><td>Svenska Mäklarhuset             </td><td>  58</td><td>Broker</td><td>https://www.svenskamaklarhuset.se/</td></tr>\n",
       "\t<tr><td>2495000</td><td>2934</td><td> 53.0</td><td>2.0</td><td>47075.47</td><td>2013-09-27 12:19:24</td><td>  NA</td><td>Lägenhet</td><td>1517543</td><td>2014-02-10</td><td>⋯</td><td>59.37327</td><td>18.05322</td><td>TRUE</td><td>Stockholm</td><td>Stockholms län</td><td> 79</td><td>Notar                           </td><td>1566</td><td>Broker</td><td>http://www.notar.se/              </td></tr>\n",
       "\t<tr><td>2200000</td><td>3563</td><td> 69.0</td><td>2.0</td><td>42028.99</td><td>2014-01-23 20:33:54</td><td>1939</td><td>Lägenhet</td><td>1579799</td><td>2014-02-05</td><td>⋯</td><td>59.37139</td><td>18.05509</td><td>TRUE</td><td>Stockholm</td><td>Stockholms län</td><td>186</td><td>Fastighetsbyrån                 </td><td>1573</td><td>Broker</td><td>http://www.fastighetsbyran.se/    </td></tr>\n",
       "\t<tr><td>3500000</td><td>3619</td><td> 76.0</td><td>3.0</td><td>48684.21</td><td>2014-01-29 21:23:11</td><td>  NA</td><td>Lägenhet</td><td>1582459</td><td>2014-01-31</td><td>⋯</td><td>59.37178</td><td>18.05527</td><td>  NA</td><td>Stockholm</td><td>Stockholms län</td><td>161</td><td>Erik Olsson Fastighetsförmedling</td><td>1564</td><td>Broker</td><td>http://www.erikolsson.se/         </td></tr>\n",
       "\t<tr><td>4590000</td><td>5192</td><td> 95.0</td><td>4.0</td><td>50631.58</td><td>2013-09-10 12:46:40</td><td>1936</td><td>Lägenhet</td><td>1503899</td><td>2013-09-30</td><td>⋯</td><td>59.37216</td><td>18.05354</td><td>TRUE</td><td>Stockholm</td><td>Stockholms län</td><td>166</td><td>Notar                           </td><td>1566</td><td>Broker</td><td>http://www.notar.se/              </td></tr>\n",
       "\t<tr><td>3100000</td><td>3806</td><td> 76.0</td><td>3.0</td><td>41118.42</td><td>2013-08-30 16:40:42</td><td>1935</td><td>Lägenhet</td><td>1496545</td><td>2013-09-19</td><td>⋯</td><td>59.37178</td><td>18.05527</td><td>  NA</td><td>Stockholm</td><td>Stockholms län</td><td>161</td><td>Notar                           </td><td>1566</td><td>Broker</td><td>http://www.notar.se/              </td></tr>\n",
       "\t<tr><td>1495000</td><td>1654</td><td> 31.0</td><td>1.5</td><td>60806.45</td><td>2013-08-23 18:39:31</td><td>1935</td><td>Lägenhet</td><td>1491078</td><td>2013-09-04</td><td>⋯</td><td>59.37227</td><td>18.05566</td><td>TRUE</td><td>Stockholm</td><td>Stockholms län</td><td>101</td><td>Notar                           </td><td>1566</td><td>Broker</td><td>http://www.notar.se/              </td></tr>\n",
       "\t<tr><td>2495000</td><td>3175</td><td> 64.0</td><td>2.0</td><td>39453.12</td><td>2013-08-01 18:48:05</td><td>1935</td><td>Lägenhet</td><td>1473688</td><td>2013-09-03</td><td>⋯</td><td>59.37183</td><td>18.05255</td><td>TRUE</td><td>Stockholm</td><td>Stockholms län</td><td>225</td><td>Notar                           </td><td>1566</td><td>Broker</td><td>http://www.notar.se/              </td></tr>\n",
       "\t<tr><td>2700000</td><td>2965</td><td> 64.3</td><td>2.0</td><td>40435.46</td><td>2013-07-22 10:32:52</td><td>  NA</td><td>Lägenhet</td><td>1467663</td><td>2013-08-17</td><td>⋯</td><td>59.37095</td><td>18.05863</td><td>TRUE</td><td>Stockholm</td><td>Stockholms län</td><td>264</td><td>Svensk Fastighetsförmedling     </td><td> 713</td><td>Broker</td><td>http://www.svenskfast.se/         </td></tr>\n",
       "\t<tr><td>2490000</td><td>1924</td><td> 54.0</td><td>2.0</td><td>48425.93</td><td>2013-07-27 01:11:31</td><td>1935</td><td>Lägenhet</td><td>1470193</td><td>2013-08-14</td><td>⋯</td><td>59.37099</td><td>18.05489</td><td>TRUE</td><td>Stockholm</td><td>Stockholms län</td><td>243</td><td>Notar                           </td><td>1566</td><td>Broker</td><td>http://www.notar.se/              </td></tr>\n",
       "\t<tr><td>1590000</td><td>1885</td><td> 36.0</td><td>1.0</td><td>48611.11</td><td>2013-07-12 21:22:29</td><td>1968</td><td>Lägenhet</td><td>1464775</td><td>2013-08-02</td><td>⋯</td><td>59.37095</td><td>18.05863</td><td>TRUE</td><td>Stockholm</td><td>Stockholms län</td><td>264</td><td>Notar                           </td><td>1566</td><td>Broker</td><td>http://www.notar.se/              </td></tr>\n",
       "\t<tr><td>3295000</td><td>3746</td><td> 69.0</td><td>3.0</td><td>47463.77</td><td>2013-05-10 11:43:51</td><td>1936</td><td>Lägenhet</td><td>1417697</td><td>2013-05-29</td><td>⋯</td><td>59.37216</td><td>18.05354</td><td>TRUE</td><td>Stockholm</td><td>Stockholms län</td><td>166</td><td>Notar                           </td><td>1566</td><td>Broker</td><td>http://www.notar.se/              </td></tr>\n",
       "\t<tr><td>4995000</td><td>5540</td><td>107.0</td><td>3.5</td><td>42056.07</td><td>2013-04-13 16:30:17</td><td>1935</td><td>Lägenhet</td><td>1396179</td><td>2013-05-20</td><td>⋯</td><td>59.37148</td><td>18.05388</td><td>  NA</td><td>Stockholm</td><td>Stockholms län</td><td>218</td><td>Notar                           </td><td>1566</td><td>Broker</td><td>http://www.notar.se/              </td></tr>\n",
       "\t<tr><td>2495000</td><td>3530</td><td> 69.0</td><td>2.0</td><td>37246.38</td><td>2013-05-04 01:14:18</td><td>1937</td><td>Lägenhet</td><td>1295930</td><td>2013-05-19</td><td>⋯</td><td>59.37159</td><td>18.05520</td><td>TRUE</td><td>Stockholm</td><td>Stockholms län</td><td>184</td><td>Notar                           </td><td>1566</td><td>Broker</td><td>http://www.notar.se/              </td></tr>\n",
       "\t<tr><td>3250000</td><td>4130</td><td> 73.0</td><td>3.0</td><td>44178.08</td><td>2013-04-20 10:44:59</td><td>1935</td><td>Lägenhet</td><td>1401342</td><td>2013-05-04</td><td>⋯</td><td>59.37164</td><td>18.05323</td><td>TRUE</td><td>Stockholm</td><td>Stockholms län</td><td>225</td><td>Notar                           </td><td>1566</td><td>Broker</td><td>http://www.notar.se/              </td></tr>\n",
       "\t<tr><td>2295000</td><td>2803</td><td> 47.5</td><td>2.0</td><td>48315.79</td><td>2013-04-13 16:24:01</td><td>1936</td><td>Lägenhet</td><td>1396102</td><td>2013-04-26</td><td>⋯</td><td>59.37205</td><td>18.05405</td><td>TRUE</td><td>Stockholm</td><td>Stockholms län</td><td>164</td><td>Notar                           </td><td>1566</td><td>Broker</td><td>http://www.notar.se/              </td></tr>\n",
       "\t<tr><td>3975000</td><td>4785</td><td> 95.0</td><td>4.0</td><td>41842.11</td><td>2013-03-27 18:21:43</td><td>  NA</td><td>Lägenhet</td><td>1384144</td><td>2013-04-14</td><td>⋯</td><td>59.37119</td><td>18.05355</td><td>  NA</td><td>Stockholm</td><td>Stockholms län</td><td>255</td><td>Bostadsrättsspecialisten        </td><td>1572</td><td>Broker</td><td>http://www.brspec.se/             </td></tr>\n",
       "\t<tr><td>2400000</td><td>3140</td><td> 53.0</td><td>2.0</td><td>50943.40</td><td>2013-03-07 20:07:39</td><td>1935</td><td>Lägenhet</td><td>1370808</td><td>2013-04-04</td><td>⋯</td><td>59.37286</td><td>18.05426</td><td><span style=white-space:pre-wrap>  NA</span></td><td>Stockholm</td><td>Stockholms län</td><td> 76</td><td><span style=white-space:pre-wrap>Karlsson &amp; Uddare               </span></td><td>1619</td><td>Broker</td><td><span style=white-space:pre-wrap>http://www.karlssonuddare.se/     </span></td></tr>\n",
       "\t<tr><td>3495000</td><td>4251</td><td> 98.0</td><td>3.0</td><td>35714.29</td><td>2013-02-22 22:16:16</td><td>1968</td><td>Lägenhet</td><td>1362997</td><td>2013-03-28</td><td>⋯</td><td>59.37105</td><td>18.05837</td><td>TRUE</td><td>Stockholm</td><td>Stockholms län</td><td>246</td><td>Notar                           </td><td>1566</td><td>Broker</td><td>http://www.notar.se/              </td></tr>\n",
       "\t<tr><td>2600000</td><td>4020</td><td> 65.0</td><td>2.0</td><td>41153.85</td><td>2013-01-09 17:15:28</td><td>1935</td><td>Lägenhet</td><td>1332711</td><td>2013-03-28</td><td>⋯</td><td>59.37152</td><td>18.05463</td><td><span style=white-space:pre-wrap>  NA</span></td><td>Stockholm</td><td>Stockholms län</td><td>198</td><td><span style=white-space:pre-wrap>Karlsson &amp; Uddare               </span></td><td>1619</td><td>Broker</td><td><span style=white-space:pre-wrap>http://www.karlssonuddare.se/     </span></td></tr>\n",
       "\t<tr><td>1650000</td><td>2034</td><td> 33.0</td><td>1.0</td><td>54545.45</td><td>2013-03-09 02:02:31</td><td>1937</td><td>Lägenhet</td><td>1371992</td><td>2013-03-26</td><td>⋯</td><td>59.37197</td><td>18.05542</td><td>TRUE</td><td>Stockholm</td><td>Stockholms län</td><td>135</td><td>Notar                           </td><td>1566</td><td>Broker</td><td>http://www.notar.se/              </td></tr>\n",
       "\t<tr><td>2295000</td><td>2508</td><td> 47.0</td><td>2.0</td><td>50212.77</td><td>2013-02-22 22:08:08</td><td>1935</td><td>Lägenhet</td><td>1362979</td><td>2013-03-26</td><td>⋯</td><td>59.37227</td><td>18.05566</td><td>TRUE</td><td>Stockholm</td><td>Stockholms län</td><td>101</td><td>Notar                           </td><td>1566</td><td>Broker</td><td>http://www.notar.se/              </td></tr>\n",
       "\t<tr><td>1300000</td><td>1294</td><td> 20.0</td><td>1.0</td><td>65000.00</td><td>2013-01-18 05:56:37</td><td>1939</td><td>Lägenhet</td><td>1338837</td><td>2013-02-09</td><td>⋯</td><td>59.37197</td><td>18.05542</td><td>TRUE</td><td>Stockholm</td><td>Stockholms län</td><td>135</td><td>Fastighetsbyrån                 </td><td>1573</td><td>Broker</td><td>http://www.fastighetsbyran.se/    </td></tr>\n",
       "\t<tr><td>2300000</td><td>2835</td><td> 63.0</td><td>2.0</td><td>35714.29</td><td>2012-10-11 17:37:23</td><td>1969</td><td>Lägenhet</td><td>1290945</td><td>2013-01-18</td><td>⋯</td><td>59.37153</td><td>18.05734</td><td>TRUE</td><td>Stockholm</td><td>Stockholms län</td><td>354</td><td>SkandiaMäklarna                 </td><td>1570</td><td>Broker</td><td>http://www.skandiamaklarna.se/    </td></tr>\n",
       "\t<tr><td>3550000</td><td>2807</td><td> 80.0</td><td>3.0</td><td>46625.00</td><td>2012-11-23 11:52:27</td><td>1935</td><td>Lägenhet</td><td>1317745</td><td>2012-12-07</td><td>⋯</td><td>59.37099</td><td>18.05489</td><td>TRUE</td><td>Stockholm</td><td>Stockholms län</td><td>243</td><td>Notar                           </td><td>1566</td><td>Broker</td><td>http://www.notar.se/              </td></tr>\n",
       "\t<tr><td>1495000</td><td>1388</td><td> 26.0</td><td>1.0</td><td>56730.77</td><td>2012-10-20 07:36:37</td><td>1935</td><td>Lägenhet</td><td>1297784</td><td>2012-11-30</td><td>⋯</td><td>59.37227</td><td>18.05566</td><td>TRUE</td><td>Stockholm</td><td>Stockholms län</td><td>101</td><td>Notar                           </td><td>1566</td><td>Broker</td><td>http://www.notar.se/              </td></tr>\n",
       "\t<tr><td>2245000</td><td>2455</td><td> 50.0</td><td>2.0</td><td>44900.00</td><td>2012-10-19 15:32:58</td><td>1935</td><td>Lägenhet</td><td>1296874</td><td>2012-10-27</td><td>⋯</td><td>59.37227</td><td>18.05566</td><td>TRUE</td><td>Stockholm</td><td>Stockholms län</td><td>101</td><td>Notar                           </td><td>1566</td><td>Broker</td><td>http://www.notar.se/              </td></tr>\n",
       "\t<tr><td>1450000</td><td>1072</td><td> 23.0</td><td>1.0</td><td>63043.48</td><td>2012-09-14 05:10:08</td><td>1936</td><td>Lägenhet</td><td>1270599</td><td>2012-10-22</td><td>⋯</td><td>59.37119</td><td>18.05355</td><td>  NA</td><td>Stockholm</td><td>Stockholms län</td><td>255</td><td>Notar                           </td><td>1566</td><td>Broker</td><td>http://www.notar.se/              </td></tr>\n",
       "\t<tr><td>2495000</td><td>2748</td><td> 56.0</td><td>3.0</td><td>39285.71</td><td>2012-09-21 12:19:37</td><td>1935</td><td>Lägenhet</td><td>1276232</td><td>2012-10-09</td><td>⋯</td><td>59.37276</td><td>18.05463</td><td>TRUE</td><td>Stockholm</td><td>Stockholms län</td><td> 70</td><td>Notar                           </td><td>1566</td><td>Broker</td><td>http://www.notar.se/              </td></tr>\n",
       "\t<tr><td>2300000</td><td>2455</td><td> 50.0</td><td>2.0</td><td>43600.00</td><td>2012-09-16 02:33:35</td><td>1935</td><td>Lägenhet</td><td>1272477</td><td>2012-10-09</td><td>⋯</td><td>59.37227</td><td>18.05566</td><td>TRUE</td><td>Stockholm</td><td>Stockholms län</td><td>101</td><td>Notar                           </td><td>1566</td><td>Broker</td><td>http://www.notar.se/              </td></tr>\n",
       "</tbody>\n",
       "</table>\n"
      ],
      "text/latex": [
       "A tibble: 158 × 28\n",
       "\\begin{tabular}{lllllllllllllllllllll}\n",
       " listPrice & rent & livingArea & rooms & ppsqm & published & constructionYear & objectType & booliId & soldDate & ⋯ & location.position.latitude & location.position.longitude & location.position.isApproximate & location.region.municipalityName & location.region.countyName & location.distance.ocean & source.name & source.id & source.type & source.url\\\\\n",
       " <int> & <int> & <dbl> & <dbl> & <dbl> & <chr> & <int> & <chr> & <int> & <chr> & ⋯ & <dbl> & <dbl> & <lgl> & <chr> & <chr> & <int> & <chr> & <int> & <chr> & <chr>\\\\\n",
       "\\hline\n",
       "\t 3995000 & 4467 &  73.0 & 3.0 & 52328.77 & 2018-10-15 13:33:18 & 1935 & Lägenhet & 3263989 & 2018-11-08 & ⋯ & 59.37103 & 18.05406 &   NA & Stockholm & Stockholms län & 260 & MOHV                             &   1901865 & Broker & http://www.mohv.se/                   \\\\\n",
       "\t 1995000 & 1773 &  36.0 & 1.0 & 65416.67 & 2018-10-05 14:29:28 & 1968 & Lägenhet & 3256231 & 2018-10-19 & ⋯ & 59.37124 & 18.05782 &   NA & Stockholm & Stockholms län & 218 & Notar                            &      1566 & Broker & http://www.notar.se/                  \\\\\n",
       "\t 5100000 & 3839 &  81.0 & 3.0 & 75432.10 & 2018-09-11 13:44:43 & 1936 & Lägenhet & 3236660 & 2018-09-27 & ⋯ & 59.37162 & 18.05472 &   NA & Stockholm & Stockholms län & 186 & Historiska Hem AB                &  65645750 & Broker & http://historiskahem.se/              \\\\\n",
       "\t 5495000 & 4483 & 107.0 & 4.0 & 75233.64 & 2018-08-25 02:56:56 & 1936 & Lägenhet & 3224374 & 2018-09-06 & ⋯ & 59.37148 & 18.05388 &   NA & Stockholm & Stockholms län & 218 & Notar                            &      1566 & Broker & http://www.notar.se/                  \\\\\n",
       "\t 1995000 & 1696 &  29.0 & 1.0 & 82758.62 & 2018-06-15 17:16:19 & 1936 & Lägenhet & 3185496 & 2018-06-18 & ⋯ & 59.37216 & 18.05354 & TRUE & Stockholm & Stockholms län & 166 & Mäklarhuset                      &       204 & Broker & http://www.maklarhuset.se/            \\\\\n",
       "\t 7495000 & 5923 & 125.0 & 4.0 & 71600.00 & 2018-06-09 10:51:27 & 1936 & Lägenhet & 3181135 & 2018-06-21 & ⋯ & 59.37148 & 18.05388 &   NA & Stockholm & Stockholms län & 218 & Notar                            &      1566 & Broker & http://www.notar.se/                  \\\\\n",
       "\t 3975000 & 3324 &  79.2 & 3.0 & 53030.30 & 2018-06-01 20:39:17 & 1968 & Lägenhet & 3175733 & 2018-06-16 & ⋯ & 59.37105 & 18.05837 & TRUE & Stockholm & Stockholms län & 246 & Svensk Fastighetsförmedling      &       713 & Broker & http://www.svenskfast.se/             \\\\\n",
       "\t 3250000 & 2789 &  64.3 & 2.0 & 51321.93 & 2018-05-31 20:07:51 & 1969 & Lägenhet & 3173741 & 2018-06-15 & ⋯ & 59.37095 & 18.05863 & TRUE & Stockholm & Stockholms län & 264 & Innerstadsspecialisten AB        &      1130 & Broker & http://www.innerspec.se/              \\\\\n",
       "\t 3250000 & 2965 &  64.3 & 2.0 & 48989.11 & 2018-05-25 20:46:58 & 1968 & Lägenhet & 3169052 & 2018-06-10 & ⋯ & 59.37095 & 18.05863 & TRUE & Stockholm & Stockholms län & 264 & Notar                            &      1566 & Broker & http://www.notar.se/                  \\\\\n",
       "\t 5495000 & 6465 &  96.0 & 3.0 & 56250.00 & 2018-05-19 12:47:47 & 1936 & Lägenhet & 3154871 & 2018-06-04 & ⋯ & 59.37119 & 18.05355 &   NA & Stockholm & Stockholms län & 255 & Nestor Fastighetsmäkleri         & 186499846 & Broker & https://nestorfastighetsmakleri.se/   \\\\\n",
       "\t 2295000 & 1743 &  29.0 & 1.0 & 83448.28 & 2018-05-05 04:43:36 & 1935 & Lägenhet & 3125674 & 2018-05-19 & ⋯ & 59.37205 & 18.05499 & TRUE & Stockholm & Stockholms län & 136 & Mäklarhuset                      &       204 & Broker & http://www.maklarhuset.se/            \\\\\n",
       "\t 2495000 & 2897 &  47.0 & 2.0 & 69361.70 & 2018-05-11 22:35:39 & 1935 & Lägenhet & 3152236 & 2018-05-18 & ⋯ & 59.37227 & 18.05566 & TRUE & Stockholm & Stockholms län & 101 & ERA                              &      1562 & Broker & http://www.erasweden.com/             \\\\\n",
       "\t 4750000 & 4537 &  92.0 & 3.0 & 53260.87 & 2018-04-27 01:21:27 & 1935 & Lägenhet & 3138304 & 2018-05-16 & ⋯ & 59.37239 & 18.05248 & TRUE & Stockholm & Stockholms län & 181 & Notar                            &      1566 & Broker & http://www.notar.se/                  \\\\\n",
       "\t 2695000 & 2595 &  39.0 & 2.0 & 66923.08 & 2018-04-17 23:06:04 & 1936 & Lägenhet & 2353845 & 2018-05-01 & ⋯ & 59.37205 & 18.05405 & TRUE & Stockholm & Stockholms län & 164 & Svensk Fastighetsförmedling      &       713 & Broker & http://www.svenskfast.se/             \\\\\n",
       "\t 6650000 & 4990 &  97.0 & 4.0 & 61855.67 & 2018-01-13 09:41:44 & 1935 & Lägenhet & 3070240 & 2018-02-15 & ⋯ & 59.37205 & 18.05499 & TRUE & Stockholm & Stockholms län & 136 & Notar                            &      1566 & Broker & http://www.notar.se/                  \\\\\n",
       "\t 2495000 & 2712 &  44.0 & 2.0 & 62500.00 & 2018-02-02 14:09:15 & 1935 & Lägenhet & 3082673 & 2018-02-15 & ⋯ & 59.37227 & 18.05566 & TRUE & Stockholm & Stockholms län & 101 & Notar                            &      1566 & Broker & http://www.notar.se/                  \\\\\n",
       "\t 2995000 & 2979 &  50.0 & 2.5 & 66200.00 & 2018-01-26 18:30:21 & 1935 & Lägenhet & 3031449 & 2018-02-09 & ⋯ & 59.37164 & 18.05323 & TRUE & Stockholm & Stockholms län & 225 & Fastighetsbyrån                  &      1573 & Broker & http://www.fastighetsbyran.se/        \\\\\n",
       "\t 3650000 & 2835 &  60.9 & 2.0 & 59934.32 & 2017-11-17 17:50:10 & 1968 & Lägenhet & 3036006 & 2018-01-09 & ⋯ & 59.37142 & 18.05760 &   NA & Stockholm & Stockholms län & 196 & Fastighetsbyrån                  &      1573 & Broker & http://www.fastighetsbyran.se/        \\\\\n",
       "\t 4060000 & 4191 &  71.0 & 2.5 & 57183.10 & 2017-12-01 15:24:46 & 1935 & Lägenhet & 3052811 & 2017-12-20 & ⋯ & 59.37227 & 18.05566 & TRUE & Stockholm & Stockholms län & 101 & Notar                            &      1566 & Broker & http://www.notar.se/                  \\\\\n",
       "\t 1995000 & 1880 &  31.0 & 2.0 & 79032.26 & 2017-11-18 16:56:07 & 1936 & Lägenhet & 3045712 & 2017-12-05 & ⋯ & 59.37119 & 18.05355 &   NA & Stockholm & Stockholms län & 255 & Notar                            &      1566 & Broker & http://www.notar.se/                  \\\\\n",
       "\t 5400000 & 3834 &  93.4 & 4.0 & 57815.85 & 2017-10-27 18:41:18 & 1968 & Lägenhet & 3029353 & 2017-11-11 & ⋯ & 59.37153 & 18.05734 & TRUE & Stockholm & Stockholms län & 354 & Karlsson \\& Uddare                &      1619 & Broker & http://www.karlssonuddare.se/         \\\\\n",
       "\t 3475000 & 2965 &  64.0 & 2.0 & 54296.88 & 2017-09-25 14:37:54 & 1968 & Lägenhet & 2406519 & 2017-11-01 & ⋯ & 59.37095 & 18.05863 & TRUE & Stockholm & Stockholms län & 264 & Karlsson \\& Uddare                &      1619 & Broker & http://www.karlssonuddare.se/         \\\\\n",
       "\t 3500000 & 3018 &  59.0 & 2.0 & 58474.58 & 2017-10-08 22:00:34 & 1939 & Lägenhet & 3009093 & 2017-10-31 & ⋯ & 59.37139 & 18.05509 & TRUE & Stockholm & Stockholms län & 186 & Notar                            &      1566 & Broker & http://www.notar.se/                  \\\\\n",
       "\t 2575000 & 2596 &  39.0 & 1.5 & 66666.67 & 2017-10-13 18:02:02 & 1934 & Lägenhet & 3017655 & 2017-10-29 & ⋯ & 59.37139 & 18.05509 & TRUE & Stockholm & Stockholms län & 186 & Erik Olsson Fastighetsförmedling &      1564 & Broker & http://www.erikolsson.se/             \\\\\n",
       "\t 2500000 & 1400 &  35.0 & 1.0 & 73142.86 & 2017-09-08 15:22:24 & 1936 & Lägenhet & 2405043 & 2017-10-06 & ⋯ & 59.37148 & 18.05388 &   NA & Stockholm & Stockholms län & 218 & HusmanHagberg                    &      1610 & Broker & http://www.husmanhagberg.se/          \\\\\n",
       "\t 2350000 & 2232 &  37.0 & 2.0 & 70540.54 & 2017-09-15 20:52:01 & 1935 & Lägenhet & 2411825 & 2017-10-06 & ⋯ & 59.37178 & 18.05527 &   NA & Stockholm & Stockholms län & 161 & Notar                            &      1566 & Broker & http://www.notar.se/                  \\\\\n",
       "\t 3495000 & 2270 &  56.0 & 2.0 & 70535.71 & 2017-09-15 12:22:35 & 1935 & Lägenhet & 2410363 & 2017-09-28 & ⋯ & 59.37148 & 18.05388 &   NA & Stockholm & Stockholms län & 218 & Vision Fastighetsmäkleri AB      &      1613 & Broker & http://www.visionfastighetsmakleri.se/\\\\\n",
       "\t 5095000 & 4829 &  85.0 & 4.0 & 64117.65 & 2017-08-30 13:37:32 & 1935 & Lägenhet & 2389859 & 2017-09-12 & ⋯ & 59.37205 & 18.05405 & TRUE & Stockholm & Stockholms län & 164 & Svensk Fastighetsförmedling      &       713 & Broker & http://www.svenskfast.se/             \\\\\n",
       "\t 4390000 & 3806 &  76.0 & 3.0 & 59210.53 & 2017-07-19 10:24:25 & 1935 & Lägenhet & 2370691 & 2017-09-06 & ⋯ & 59.37178 & 18.05527 &   NA & Stockholm & Stockholms län & 161 & Notar                            &      1566 & Broker & http://www.notar.se/                  \\\\\n",
       "\t 2595000 & 2232 &  37.0 & 1.0 & 73378.38 & 2017-07-28 13:02:18 & 1939 & Lägenhet & 2374010 & 2017-09-01 & ⋯ & 59.37178 & 18.05527 &   NA & Stockholm & Stockholms län & 161 & Svensk Fastighetsförmedling      &       713 & Broker & http://www.svenskfast.se/             \\\\\n",
       "\t ⋮ & ⋮ & ⋮ & ⋮ & ⋮ & ⋮ & ⋮ & ⋮ & ⋮ & ⋮ & ⋱ & ⋮ & ⋮ & ⋮ & ⋮ & ⋮ & ⋮ & ⋮ & ⋮ & ⋮ & ⋮\\\\\n",
       "\t 2395000 & 2803 &  47.5 & 2.0 & 51157.89 & 2014-02-07 14:38:41 & 1935 & Lägenhet & 1587338 & 2014-02-20 & ⋯ & 59.37205 & 18.05405 & TRUE & Stockholm & Stockholms län & 164 & Svenska Mäklarhuset              &   58 & Broker & https://www.svenskamaklarhuset.se/\\\\\n",
       "\t 2495000 & 2934 &  53.0 & 2.0 & 47075.47 & 2013-09-27 12:19:24 &   NA & Lägenhet & 1517543 & 2014-02-10 & ⋯ & 59.37327 & 18.05322 & TRUE & Stockholm & Stockholms län &  79 & Notar                            & 1566 & Broker & http://www.notar.se/              \\\\\n",
       "\t 2200000 & 3563 &  69.0 & 2.0 & 42028.99 & 2014-01-23 20:33:54 & 1939 & Lägenhet & 1579799 & 2014-02-05 & ⋯ & 59.37139 & 18.05509 & TRUE & Stockholm & Stockholms län & 186 & Fastighetsbyrån                  & 1573 & Broker & http://www.fastighetsbyran.se/    \\\\\n",
       "\t 3500000 & 3619 &  76.0 & 3.0 & 48684.21 & 2014-01-29 21:23:11 &   NA & Lägenhet & 1582459 & 2014-01-31 & ⋯ & 59.37178 & 18.05527 &   NA & Stockholm & Stockholms län & 161 & Erik Olsson Fastighetsförmedling & 1564 & Broker & http://www.erikolsson.se/         \\\\\n",
       "\t 4590000 & 5192 &  95.0 & 4.0 & 50631.58 & 2013-09-10 12:46:40 & 1936 & Lägenhet & 1503899 & 2013-09-30 & ⋯ & 59.37216 & 18.05354 & TRUE & Stockholm & Stockholms län & 166 & Notar                            & 1566 & Broker & http://www.notar.se/              \\\\\n",
       "\t 3100000 & 3806 &  76.0 & 3.0 & 41118.42 & 2013-08-30 16:40:42 & 1935 & Lägenhet & 1496545 & 2013-09-19 & ⋯ & 59.37178 & 18.05527 &   NA & Stockholm & Stockholms län & 161 & Notar                            & 1566 & Broker & http://www.notar.se/              \\\\\n",
       "\t 1495000 & 1654 &  31.0 & 1.5 & 60806.45 & 2013-08-23 18:39:31 & 1935 & Lägenhet & 1491078 & 2013-09-04 & ⋯ & 59.37227 & 18.05566 & TRUE & Stockholm & Stockholms län & 101 & Notar                            & 1566 & Broker & http://www.notar.se/              \\\\\n",
       "\t 2495000 & 3175 &  64.0 & 2.0 & 39453.12 & 2013-08-01 18:48:05 & 1935 & Lägenhet & 1473688 & 2013-09-03 & ⋯ & 59.37183 & 18.05255 & TRUE & Stockholm & Stockholms län & 225 & Notar                            & 1566 & Broker & http://www.notar.se/              \\\\\n",
       "\t 2700000 & 2965 &  64.3 & 2.0 & 40435.46 & 2013-07-22 10:32:52 &   NA & Lägenhet & 1467663 & 2013-08-17 & ⋯ & 59.37095 & 18.05863 & TRUE & Stockholm & Stockholms län & 264 & Svensk Fastighetsförmedling      &  713 & Broker & http://www.svenskfast.se/         \\\\\n",
       "\t 2490000 & 1924 &  54.0 & 2.0 & 48425.93 & 2013-07-27 01:11:31 & 1935 & Lägenhet & 1470193 & 2013-08-14 & ⋯ & 59.37099 & 18.05489 & TRUE & Stockholm & Stockholms län & 243 & Notar                            & 1566 & Broker & http://www.notar.se/              \\\\\n",
       "\t 1590000 & 1885 &  36.0 & 1.0 & 48611.11 & 2013-07-12 21:22:29 & 1968 & Lägenhet & 1464775 & 2013-08-02 & ⋯ & 59.37095 & 18.05863 & TRUE & Stockholm & Stockholms län & 264 & Notar                            & 1566 & Broker & http://www.notar.se/              \\\\\n",
       "\t 3295000 & 3746 &  69.0 & 3.0 & 47463.77 & 2013-05-10 11:43:51 & 1936 & Lägenhet & 1417697 & 2013-05-29 & ⋯ & 59.37216 & 18.05354 & TRUE & Stockholm & Stockholms län & 166 & Notar                            & 1566 & Broker & http://www.notar.se/              \\\\\n",
       "\t 4995000 & 5540 & 107.0 & 3.5 & 42056.07 & 2013-04-13 16:30:17 & 1935 & Lägenhet & 1396179 & 2013-05-20 & ⋯ & 59.37148 & 18.05388 &   NA & Stockholm & Stockholms län & 218 & Notar                            & 1566 & Broker & http://www.notar.se/              \\\\\n",
       "\t 2495000 & 3530 &  69.0 & 2.0 & 37246.38 & 2013-05-04 01:14:18 & 1937 & Lägenhet & 1295930 & 2013-05-19 & ⋯ & 59.37159 & 18.05520 & TRUE & Stockholm & Stockholms län & 184 & Notar                            & 1566 & Broker & http://www.notar.se/              \\\\\n",
       "\t 3250000 & 4130 &  73.0 & 3.0 & 44178.08 & 2013-04-20 10:44:59 & 1935 & Lägenhet & 1401342 & 2013-05-04 & ⋯ & 59.37164 & 18.05323 & TRUE & Stockholm & Stockholms län & 225 & Notar                            & 1566 & Broker & http://www.notar.se/              \\\\\n",
       "\t 2295000 & 2803 &  47.5 & 2.0 & 48315.79 & 2013-04-13 16:24:01 & 1936 & Lägenhet & 1396102 & 2013-04-26 & ⋯ & 59.37205 & 18.05405 & TRUE & Stockholm & Stockholms län & 164 & Notar                            & 1566 & Broker & http://www.notar.se/              \\\\\n",
       "\t 3975000 & 4785 &  95.0 & 4.0 & 41842.11 & 2013-03-27 18:21:43 &   NA & Lägenhet & 1384144 & 2013-04-14 & ⋯ & 59.37119 & 18.05355 &   NA & Stockholm & Stockholms län & 255 & Bostadsrättsspecialisten         & 1572 & Broker & http://www.brspec.se/             \\\\\n",
       "\t 2400000 & 3140 &  53.0 & 2.0 & 50943.40 & 2013-03-07 20:07:39 & 1935 & Lägenhet & 1370808 & 2013-04-04 & ⋯ & 59.37286 & 18.05426 &   NA & Stockholm & Stockholms län &  76 & Karlsson \\& Uddare                & 1619 & Broker & http://www.karlssonuddare.se/     \\\\\n",
       "\t 3495000 & 4251 &  98.0 & 3.0 & 35714.29 & 2013-02-22 22:16:16 & 1968 & Lägenhet & 1362997 & 2013-03-28 & ⋯ & 59.37105 & 18.05837 & TRUE & Stockholm & Stockholms län & 246 & Notar                            & 1566 & Broker & http://www.notar.se/              \\\\\n",
       "\t 2600000 & 4020 &  65.0 & 2.0 & 41153.85 & 2013-01-09 17:15:28 & 1935 & Lägenhet & 1332711 & 2013-03-28 & ⋯ & 59.37152 & 18.05463 &   NA & Stockholm & Stockholms län & 198 & Karlsson \\& Uddare                & 1619 & Broker & http://www.karlssonuddare.se/     \\\\\n",
       "\t 1650000 & 2034 &  33.0 & 1.0 & 54545.45 & 2013-03-09 02:02:31 & 1937 & Lägenhet & 1371992 & 2013-03-26 & ⋯ & 59.37197 & 18.05542 & TRUE & Stockholm & Stockholms län & 135 & Notar                            & 1566 & Broker & http://www.notar.se/              \\\\\n",
       "\t 2295000 & 2508 &  47.0 & 2.0 & 50212.77 & 2013-02-22 22:08:08 & 1935 & Lägenhet & 1362979 & 2013-03-26 & ⋯ & 59.37227 & 18.05566 & TRUE & Stockholm & Stockholms län & 101 & Notar                            & 1566 & Broker & http://www.notar.se/              \\\\\n",
       "\t 1300000 & 1294 &  20.0 & 1.0 & 65000.00 & 2013-01-18 05:56:37 & 1939 & Lägenhet & 1338837 & 2013-02-09 & ⋯ & 59.37197 & 18.05542 & TRUE & Stockholm & Stockholms län & 135 & Fastighetsbyrån                  & 1573 & Broker & http://www.fastighetsbyran.se/    \\\\\n",
       "\t 2300000 & 2835 &  63.0 & 2.0 & 35714.29 & 2012-10-11 17:37:23 & 1969 & Lägenhet & 1290945 & 2013-01-18 & ⋯ & 59.37153 & 18.05734 & TRUE & Stockholm & Stockholms län & 354 & SkandiaMäklarna                  & 1570 & Broker & http://www.skandiamaklarna.se/    \\\\\n",
       "\t 3550000 & 2807 &  80.0 & 3.0 & 46625.00 & 2012-11-23 11:52:27 & 1935 & Lägenhet & 1317745 & 2012-12-07 & ⋯ & 59.37099 & 18.05489 & TRUE & Stockholm & Stockholms län & 243 & Notar                            & 1566 & Broker & http://www.notar.se/              \\\\\n",
       "\t 1495000 & 1388 &  26.0 & 1.0 & 56730.77 & 2012-10-20 07:36:37 & 1935 & Lägenhet & 1297784 & 2012-11-30 & ⋯ & 59.37227 & 18.05566 & TRUE & Stockholm & Stockholms län & 101 & Notar                            & 1566 & Broker & http://www.notar.se/              \\\\\n",
       "\t 2245000 & 2455 &  50.0 & 2.0 & 44900.00 & 2012-10-19 15:32:58 & 1935 & Lägenhet & 1296874 & 2012-10-27 & ⋯ & 59.37227 & 18.05566 & TRUE & Stockholm & Stockholms län & 101 & Notar                            & 1566 & Broker & http://www.notar.se/              \\\\\n",
       "\t 1450000 & 1072 &  23.0 & 1.0 & 63043.48 & 2012-09-14 05:10:08 & 1936 & Lägenhet & 1270599 & 2012-10-22 & ⋯ & 59.37119 & 18.05355 &   NA & Stockholm & Stockholms län & 255 & Notar                            & 1566 & Broker & http://www.notar.se/              \\\\\n",
       "\t 2495000 & 2748 &  56.0 & 3.0 & 39285.71 & 2012-09-21 12:19:37 & 1935 & Lägenhet & 1276232 & 2012-10-09 & ⋯ & 59.37276 & 18.05463 & TRUE & Stockholm & Stockholms län &  70 & Notar                            & 1566 & Broker & http://www.notar.se/              \\\\\n",
       "\t 2300000 & 2455 &  50.0 & 2.0 & 43600.00 & 2012-09-16 02:33:35 & 1935 & Lägenhet & 1272477 & 2012-10-09 & ⋯ & 59.37227 & 18.05566 & TRUE & Stockholm & Stockholms län & 101 & Notar                            & 1566 & Broker & http://www.notar.se/              \\\\\n",
       "\\end{tabular}\n"
      ],
      "text/markdown": [
       "\n",
       "A tibble: 158 × 28\n",
       "\n",
       "| listPrice &lt;int&gt; | rent &lt;int&gt; | livingArea &lt;dbl&gt; | rooms &lt;dbl&gt; | ppsqm &lt;dbl&gt; | published &lt;chr&gt; | constructionYear &lt;int&gt; | objectType &lt;chr&gt; | booliId &lt;int&gt; | soldDate &lt;chr&gt; | ⋯ ⋯ | location.position.latitude &lt;dbl&gt; | location.position.longitude &lt;dbl&gt; | location.position.isApproximate &lt;lgl&gt; | location.region.municipalityName &lt;chr&gt; | location.region.countyName &lt;chr&gt; | location.distance.ocean &lt;int&gt; | source.name &lt;chr&gt; | source.id &lt;int&gt; | source.type &lt;chr&gt; | source.url &lt;chr&gt; |\n",
       "|---|---|---|---|---|---|---|---|---|---|---|---|---|---|---|---|---|---|---|---|---|\n",
       "| 3995000 | 4467 |  73.0 | 3.0 | 52328.77 | 2018-10-15 13:33:18 | 1935 | Lägenhet | 3263989 | 2018-11-08 | ⋯ | 59.37103 | 18.05406 |   NA | Stockholm | Stockholms län | 260 | MOHV                             |   1901865 | Broker | http://www.mohv.se/                    |\n",
       "| 1995000 | 1773 |  36.0 | 1.0 | 65416.67 | 2018-10-05 14:29:28 | 1968 | Lägenhet | 3256231 | 2018-10-19 | ⋯ | 59.37124 | 18.05782 |   NA | Stockholm | Stockholms län | 218 | Notar                            |      1566 | Broker | http://www.notar.se/                   |\n",
       "| 5100000 | 3839 |  81.0 | 3.0 | 75432.10 | 2018-09-11 13:44:43 | 1936 | Lägenhet | 3236660 | 2018-09-27 | ⋯ | 59.37162 | 18.05472 |   NA | Stockholm | Stockholms län | 186 | Historiska Hem AB                |  65645750 | Broker | http://historiskahem.se/               |\n",
       "| 5495000 | 4483 | 107.0 | 4.0 | 75233.64 | 2018-08-25 02:56:56 | 1936 | Lägenhet | 3224374 | 2018-09-06 | ⋯ | 59.37148 | 18.05388 |   NA | Stockholm | Stockholms län | 218 | Notar                            |      1566 | Broker | http://www.notar.se/                   |\n",
       "| 1995000 | 1696 |  29.0 | 1.0 | 82758.62 | 2018-06-15 17:16:19 | 1936 | Lägenhet | 3185496 | 2018-06-18 | ⋯ | 59.37216 | 18.05354 | TRUE | Stockholm | Stockholms län | 166 | Mäklarhuset                      |       204 | Broker | http://www.maklarhuset.se/             |\n",
       "| 7495000 | 5923 | 125.0 | 4.0 | 71600.00 | 2018-06-09 10:51:27 | 1936 | Lägenhet | 3181135 | 2018-06-21 | ⋯ | 59.37148 | 18.05388 |   NA | Stockholm | Stockholms län | 218 | Notar                            |      1566 | Broker | http://www.notar.se/                   |\n",
       "| 3975000 | 3324 |  79.2 | 3.0 | 53030.30 | 2018-06-01 20:39:17 | 1968 | Lägenhet | 3175733 | 2018-06-16 | ⋯ | 59.37105 | 18.05837 | TRUE | Stockholm | Stockholms län | 246 | Svensk Fastighetsförmedling      |       713 | Broker | http://www.svenskfast.se/              |\n",
       "| 3250000 | 2789 |  64.3 | 2.0 | 51321.93 | 2018-05-31 20:07:51 | 1969 | Lägenhet | 3173741 | 2018-06-15 | ⋯ | 59.37095 | 18.05863 | TRUE | Stockholm | Stockholms län | 264 | Innerstadsspecialisten AB        |      1130 | Broker | http://www.innerspec.se/               |\n",
       "| 3250000 | 2965 |  64.3 | 2.0 | 48989.11 | 2018-05-25 20:46:58 | 1968 | Lägenhet | 3169052 | 2018-06-10 | ⋯ | 59.37095 | 18.05863 | TRUE | Stockholm | Stockholms län | 264 | Notar                            |      1566 | Broker | http://www.notar.se/                   |\n",
       "| 5495000 | 6465 |  96.0 | 3.0 | 56250.00 | 2018-05-19 12:47:47 | 1936 | Lägenhet | 3154871 | 2018-06-04 | ⋯ | 59.37119 | 18.05355 |   NA | Stockholm | Stockholms län | 255 | Nestor Fastighetsmäkleri         | 186499846 | Broker | https://nestorfastighetsmakleri.se/    |\n",
       "| 2295000 | 1743 |  29.0 | 1.0 | 83448.28 | 2018-05-05 04:43:36 | 1935 | Lägenhet | 3125674 | 2018-05-19 | ⋯ | 59.37205 | 18.05499 | TRUE | Stockholm | Stockholms län | 136 | Mäklarhuset                      |       204 | Broker | http://www.maklarhuset.se/             |\n",
       "| 2495000 | 2897 |  47.0 | 2.0 | 69361.70 | 2018-05-11 22:35:39 | 1935 | Lägenhet | 3152236 | 2018-05-18 | ⋯ | 59.37227 | 18.05566 | TRUE | Stockholm | Stockholms län | 101 | ERA                              |      1562 | Broker | http://www.erasweden.com/              |\n",
       "| 4750000 | 4537 |  92.0 | 3.0 | 53260.87 | 2018-04-27 01:21:27 | 1935 | Lägenhet | 3138304 | 2018-05-16 | ⋯ | 59.37239 | 18.05248 | TRUE | Stockholm | Stockholms län | 181 | Notar                            |      1566 | Broker | http://www.notar.se/                   |\n",
       "| 2695000 | 2595 |  39.0 | 2.0 | 66923.08 | 2018-04-17 23:06:04 | 1936 | Lägenhet | 2353845 | 2018-05-01 | ⋯ | 59.37205 | 18.05405 | TRUE | Stockholm | Stockholms län | 164 | Svensk Fastighetsförmedling      |       713 | Broker | http://www.svenskfast.se/              |\n",
       "| 6650000 | 4990 |  97.0 | 4.0 | 61855.67 | 2018-01-13 09:41:44 | 1935 | Lägenhet | 3070240 | 2018-02-15 | ⋯ | 59.37205 | 18.05499 | TRUE | Stockholm | Stockholms län | 136 | Notar                            |      1566 | Broker | http://www.notar.se/                   |\n",
       "| 2495000 | 2712 |  44.0 | 2.0 | 62500.00 | 2018-02-02 14:09:15 | 1935 | Lägenhet | 3082673 | 2018-02-15 | ⋯ | 59.37227 | 18.05566 | TRUE | Stockholm | Stockholms län | 101 | Notar                            |      1566 | Broker | http://www.notar.se/                   |\n",
       "| 2995000 | 2979 |  50.0 | 2.5 | 66200.00 | 2018-01-26 18:30:21 | 1935 | Lägenhet | 3031449 | 2018-02-09 | ⋯ | 59.37164 | 18.05323 | TRUE | Stockholm | Stockholms län | 225 | Fastighetsbyrån                  |      1573 | Broker | http://www.fastighetsbyran.se/         |\n",
       "| 3650000 | 2835 |  60.9 | 2.0 | 59934.32 | 2017-11-17 17:50:10 | 1968 | Lägenhet | 3036006 | 2018-01-09 | ⋯ | 59.37142 | 18.05760 |   NA | Stockholm | Stockholms län | 196 | Fastighetsbyrån                  |      1573 | Broker | http://www.fastighetsbyran.se/         |\n",
       "| 4060000 | 4191 |  71.0 | 2.5 | 57183.10 | 2017-12-01 15:24:46 | 1935 | Lägenhet | 3052811 | 2017-12-20 | ⋯ | 59.37227 | 18.05566 | TRUE | Stockholm | Stockholms län | 101 | Notar                            |      1566 | Broker | http://www.notar.se/                   |\n",
       "| 1995000 | 1880 |  31.0 | 2.0 | 79032.26 | 2017-11-18 16:56:07 | 1936 | Lägenhet | 3045712 | 2017-12-05 | ⋯ | 59.37119 | 18.05355 |   NA | Stockholm | Stockholms län | 255 | Notar                            |      1566 | Broker | http://www.notar.se/                   |\n",
       "| 5400000 | 3834 |  93.4 | 4.0 | 57815.85 | 2017-10-27 18:41:18 | 1968 | Lägenhet | 3029353 | 2017-11-11 | ⋯ | 59.37153 | 18.05734 | TRUE | Stockholm | Stockholms län | 354 | Karlsson &amp; Uddare                |      1619 | Broker | http://www.karlssonuddare.se/          |\n",
       "| 3475000 | 2965 |  64.0 | 2.0 | 54296.88 | 2017-09-25 14:37:54 | 1968 | Lägenhet | 2406519 | 2017-11-01 | ⋯ | 59.37095 | 18.05863 | TRUE | Stockholm | Stockholms län | 264 | Karlsson &amp; Uddare                |      1619 | Broker | http://www.karlssonuddare.se/          |\n",
       "| 3500000 | 3018 |  59.0 | 2.0 | 58474.58 | 2017-10-08 22:00:34 | 1939 | Lägenhet | 3009093 | 2017-10-31 | ⋯ | 59.37139 | 18.05509 | TRUE | Stockholm | Stockholms län | 186 | Notar                            |      1566 | Broker | http://www.notar.se/                   |\n",
       "| 2575000 | 2596 |  39.0 | 1.5 | 66666.67 | 2017-10-13 18:02:02 | 1934 | Lägenhet | 3017655 | 2017-10-29 | ⋯ | 59.37139 | 18.05509 | TRUE | Stockholm | Stockholms län | 186 | Erik Olsson Fastighetsförmedling |      1564 | Broker | http://www.erikolsson.se/              |\n",
       "| 2500000 | 1400 |  35.0 | 1.0 | 73142.86 | 2017-09-08 15:22:24 | 1936 | Lägenhet | 2405043 | 2017-10-06 | ⋯ | 59.37148 | 18.05388 |   NA | Stockholm | Stockholms län | 218 | HusmanHagberg                    |      1610 | Broker | http://www.husmanhagberg.se/           |\n",
       "| 2350000 | 2232 |  37.0 | 2.0 | 70540.54 | 2017-09-15 20:52:01 | 1935 | Lägenhet | 2411825 | 2017-10-06 | ⋯ | 59.37178 | 18.05527 |   NA | Stockholm | Stockholms län | 161 | Notar                            |      1566 | Broker | http://www.notar.se/                   |\n",
       "| 3495000 | 2270 |  56.0 | 2.0 | 70535.71 | 2017-09-15 12:22:35 | 1935 | Lägenhet | 2410363 | 2017-09-28 | ⋯ | 59.37148 | 18.05388 |   NA | Stockholm | Stockholms län | 218 | Vision Fastighetsmäkleri AB      |      1613 | Broker | http://www.visionfastighetsmakleri.se/ |\n",
       "| 5095000 | 4829 |  85.0 | 4.0 | 64117.65 | 2017-08-30 13:37:32 | 1935 | Lägenhet | 2389859 | 2017-09-12 | ⋯ | 59.37205 | 18.05405 | TRUE | Stockholm | Stockholms län | 164 | Svensk Fastighetsförmedling      |       713 | Broker | http://www.svenskfast.se/              |\n",
       "| 4390000 | 3806 |  76.0 | 3.0 | 59210.53 | 2017-07-19 10:24:25 | 1935 | Lägenhet | 2370691 | 2017-09-06 | ⋯ | 59.37178 | 18.05527 |   NA | Stockholm | Stockholms län | 161 | Notar                            |      1566 | Broker | http://www.notar.se/                   |\n",
       "| 2595000 | 2232 |  37.0 | 1.0 | 73378.38 | 2017-07-28 13:02:18 | 1939 | Lägenhet | 2374010 | 2017-09-01 | ⋯ | 59.37178 | 18.05527 |   NA | Stockholm | Stockholms län | 161 | Svensk Fastighetsförmedling      |       713 | Broker | http://www.svenskfast.se/              |\n",
       "| ⋮ | ⋮ | ⋮ | ⋮ | ⋮ | ⋮ | ⋮ | ⋮ | ⋮ | ⋮ | ⋱ | ⋮ | ⋮ | ⋮ | ⋮ | ⋮ | ⋮ | ⋮ | ⋮ | ⋮ | ⋮ |\n",
       "| 2395000 | 2803 |  47.5 | 2.0 | 51157.89 | 2014-02-07 14:38:41 | 1935 | Lägenhet | 1587338 | 2014-02-20 | ⋯ | 59.37205 | 18.05405 | TRUE | Stockholm | Stockholms län | 164 | Svenska Mäklarhuset              |   58 | Broker | https://www.svenskamaklarhuset.se/ |\n",
       "| 2495000 | 2934 |  53.0 | 2.0 | 47075.47 | 2013-09-27 12:19:24 |   NA | Lägenhet | 1517543 | 2014-02-10 | ⋯ | 59.37327 | 18.05322 | TRUE | Stockholm | Stockholms län |  79 | Notar                            | 1566 | Broker | http://www.notar.se/               |\n",
       "| 2200000 | 3563 |  69.0 | 2.0 | 42028.99 | 2014-01-23 20:33:54 | 1939 | Lägenhet | 1579799 | 2014-02-05 | ⋯ | 59.37139 | 18.05509 | TRUE | Stockholm | Stockholms län | 186 | Fastighetsbyrån                  | 1573 | Broker | http://www.fastighetsbyran.se/     |\n",
       "| 3500000 | 3619 |  76.0 | 3.0 | 48684.21 | 2014-01-29 21:23:11 |   NA | Lägenhet | 1582459 | 2014-01-31 | ⋯ | 59.37178 | 18.05527 |   NA | Stockholm | Stockholms län | 161 | Erik Olsson Fastighetsförmedling | 1564 | Broker | http://www.erikolsson.se/          |\n",
       "| 4590000 | 5192 |  95.0 | 4.0 | 50631.58 | 2013-09-10 12:46:40 | 1936 | Lägenhet | 1503899 | 2013-09-30 | ⋯ | 59.37216 | 18.05354 | TRUE | Stockholm | Stockholms län | 166 | Notar                            | 1566 | Broker | http://www.notar.se/               |\n",
       "| 3100000 | 3806 |  76.0 | 3.0 | 41118.42 | 2013-08-30 16:40:42 | 1935 | Lägenhet | 1496545 | 2013-09-19 | ⋯ | 59.37178 | 18.05527 |   NA | Stockholm | Stockholms län | 161 | Notar                            | 1566 | Broker | http://www.notar.se/               |\n",
       "| 1495000 | 1654 |  31.0 | 1.5 | 60806.45 | 2013-08-23 18:39:31 | 1935 | Lägenhet | 1491078 | 2013-09-04 | ⋯ | 59.37227 | 18.05566 | TRUE | Stockholm | Stockholms län | 101 | Notar                            | 1566 | Broker | http://www.notar.se/               |\n",
       "| 2495000 | 3175 |  64.0 | 2.0 | 39453.12 | 2013-08-01 18:48:05 | 1935 | Lägenhet | 1473688 | 2013-09-03 | ⋯ | 59.37183 | 18.05255 | TRUE | Stockholm | Stockholms län | 225 | Notar                            | 1566 | Broker | http://www.notar.se/               |\n",
       "| 2700000 | 2965 |  64.3 | 2.0 | 40435.46 | 2013-07-22 10:32:52 |   NA | Lägenhet | 1467663 | 2013-08-17 | ⋯ | 59.37095 | 18.05863 | TRUE | Stockholm | Stockholms län | 264 | Svensk Fastighetsförmedling      |  713 | Broker | http://www.svenskfast.se/          |\n",
       "| 2490000 | 1924 |  54.0 | 2.0 | 48425.93 | 2013-07-27 01:11:31 | 1935 | Lägenhet | 1470193 | 2013-08-14 | ⋯ | 59.37099 | 18.05489 | TRUE | Stockholm | Stockholms län | 243 | Notar                            | 1566 | Broker | http://www.notar.se/               |\n",
       "| 1590000 | 1885 |  36.0 | 1.0 | 48611.11 | 2013-07-12 21:22:29 | 1968 | Lägenhet | 1464775 | 2013-08-02 | ⋯ | 59.37095 | 18.05863 | TRUE | Stockholm | Stockholms län | 264 | Notar                            | 1566 | Broker | http://www.notar.se/               |\n",
       "| 3295000 | 3746 |  69.0 | 3.0 | 47463.77 | 2013-05-10 11:43:51 | 1936 | Lägenhet | 1417697 | 2013-05-29 | ⋯ | 59.37216 | 18.05354 | TRUE | Stockholm | Stockholms län | 166 | Notar                            | 1566 | Broker | http://www.notar.se/               |\n",
       "| 4995000 | 5540 | 107.0 | 3.5 | 42056.07 | 2013-04-13 16:30:17 | 1935 | Lägenhet | 1396179 | 2013-05-20 | ⋯ | 59.37148 | 18.05388 |   NA | Stockholm | Stockholms län | 218 | Notar                            | 1566 | Broker | http://www.notar.se/               |\n",
       "| 2495000 | 3530 |  69.0 | 2.0 | 37246.38 | 2013-05-04 01:14:18 | 1937 | Lägenhet | 1295930 | 2013-05-19 | ⋯ | 59.37159 | 18.05520 | TRUE | Stockholm | Stockholms län | 184 | Notar                            | 1566 | Broker | http://www.notar.se/               |\n",
       "| 3250000 | 4130 |  73.0 | 3.0 | 44178.08 | 2013-04-20 10:44:59 | 1935 | Lägenhet | 1401342 | 2013-05-04 | ⋯ | 59.37164 | 18.05323 | TRUE | Stockholm | Stockholms län | 225 | Notar                            | 1566 | Broker | http://www.notar.se/               |\n",
       "| 2295000 | 2803 |  47.5 | 2.0 | 48315.79 | 2013-04-13 16:24:01 | 1936 | Lägenhet | 1396102 | 2013-04-26 | ⋯ | 59.37205 | 18.05405 | TRUE | Stockholm | Stockholms län | 164 | Notar                            | 1566 | Broker | http://www.notar.se/               |\n",
       "| 3975000 | 4785 |  95.0 | 4.0 | 41842.11 | 2013-03-27 18:21:43 |   NA | Lägenhet | 1384144 | 2013-04-14 | ⋯ | 59.37119 | 18.05355 |   NA | Stockholm | Stockholms län | 255 | Bostadsrättsspecialisten         | 1572 | Broker | http://www.brspec.se/              |\n",
       "| 2400000 | 3140 |  53.0 | 2.0 | 50943.40 | 2013-03-07 20:07:39 | 1935 | Lägenhet | 1370808 | 2013-04-04 | ⋯ | 59.37286 | 18.05426 |   NA | Stockholm | Stockholms län |  76 | Karlsson &amp; Uddare                | 1619 | Broker | http://www.karlssonuddare.se/      |\n",
       "| 3495000 | 4251 |  98.0 | 3.0 | 35714.29 | 2013-02-22 22:16:16 | 1968 | Lägenhet | 1362997 | 2013-03-28 | ⋯ | 59.37105 | 18.05837 | TRUE | Stockholm | Stockholms län | 246 | Notar                            | 1566 | Broker | http://www.notar.se/               |\n",
       "| 2600000 | 4020 |  65.0 | 2.0 | 41153.85 | 2013-01-09 17:15:28 | 1935 | Lägenhet | 1332711 | 2013-03-28 | ⋯ | 59.37152 | 18.05463 |   NA | Stockholm | Stockholms län | 198 | Karlsson &amp; Uddare                | 1619 | Broker | http://www.karlssonuddare.se/      |\n",
       "| 1650000 | 2034 |  33.0 | 1.0 | 54545.45 | 2013-03-09 02:02:31 | 1937 | Lägenhet | 1371992 | 2013-03-26 | ⋯ | 59.37197 | 18.05542 | TRUE | Stockholm | Stockholms län | 135 | Notar                            | 1566 | Broker | http://www.notar.se/               |\n",
       "| 2295000 | 2508 |  47.0 | 2.0 | 50212.77 | 2013-02-22 22:08:08 | 1935 | Lägenhet | 1362979 | 2013-03-26 | ⋯ | 59.37227 | 18.05566 | TRUE | Stockholm | Stockholms län | 101 | Notar                            | 1566 | Broker | http://www.notar.se/               |\n",
       "| 1300000 | 1294 |  20.0 | 1.0 | 65000.00 | 2013-01-18 05:56:37 | 1939 | Lägenhet | 1338837 | 2013-02-09 | ⋯ | 59.37197 | 18.05542 | TRUE | Stockholm | Stockholms län | 135 | Fastighetsbyrån                  | 1573 | Broker | http://www.fastighetsbyran.se/     |\n",
       "| 2300000 | 2835 |  63.0 | 2.0 | 35714.29 | 2012-10-11 17:37:23 | 1969 | Lägenhet | 1290945 | 2013-01-18 | ⋯ | 59.37153 | 18.05734 | TRUE | Stockholm | Stockholms län | 354 | SkandiaMäklarna                  | 1570 | Broker | http://www.skandiamaklarna.se/     |\n",
       "| 3550000 | 2807 |  80.0 | 3.0 | 46625.00 | 2012-11-23 11:52:27 | 1935 | Lägenhet | 1317745 | 2012-12-07 | ⋯ | 59.37099 | 18.05489 | TRUE | Stockholm | Stockholms län | 243 | Notar                            | 1566 | Broker | http://www.notar.se/               |\n",
       "| 1495000 | 1388 |  26.0 | 1.0 | 56730.77 | 2012-10-20 07:36:37 | 1935 | Lägenhet | 1297784 | 2012-11-30 | ⋯ | 59.37227 | 18.05566 | TRUE | Stockholm | Stockholms län | 101 | Notar                            | 1566 | Broker | http://www.notar.se/               |\n",
       "| 2245000 | 2455 |  50.0 | 2.0 | 44900.00 | 2012-10-19 15:32:58 | 1935 | Lägenhet | 1296874 | 2012-10-27 | ⋯ | 59.37227 | 18.05566 | TRUE | Stockholm | Stockholms län | 101 | Notar                            | 1566 | Broker | http://www.notar.se/               |\n",
       "| 1450000 | 1072 |  23.0 | 1.0 | 63043.48 | 2012-09-14 05:10:08 | 1936 | Lägenhet | 1270599 | 2012-10-22 | ⋯ | 59.37119 | 18.05355 |   NA | Stockholm | Stockholms län | 255 | Notar                            | 1566 | Broker | http://www.notar.se/               |\n",
       "| 2495000 | 2748 |  56.0 | 3.0 | 39285.71 | 2012-09-21 12:19:37 | 1935 | Lägenhet | 1276232 | 2012-10-09 | ⋯ | 59.37276 | 18.05463 | TRUE | Stockholm | Stockholms län |  70 | Notar                            | 1566 | Broker | http://www.notar.se/               |\n",
       "| 2300000 | 2455 |  50.0 | 2.0 | 43600.00 | 2012-09-16 02:33:35 | 1935 | Lägenhet | 1272477 | 2012-10-09 | ⋯ | 59.37227 | 18.05566 | TRUE | Stockholm | Stockholms län | 101 | Notar                            | 1566 | Broker | http://www.notar.se/               |\n",
       "\n"
      ],
      "text/plain": [
       "    listPrice rent livingArea rooms ppsqm    published          \n",
       "1   3995000   4467  73.0      3.0   52328.77 2018-10-15 13:33:18\n",
       "2   1995000   1773  36.0      1.0   65416.67 2018-10-05 14:29:28\n",
       "3   5100000   3839  81.0      3.0   75432.10 2018-09-11 13:44:43\n",
       "4   5495000   4483 107.0      4.0   75233.64 2018-08-25 02:56:56\n",
       "5   1995000   1696  29.0      1.0   82758.62 2018-06-15 17:16:19\n",
       "6   7495000   5923 125.0      4.0   71600.00 2018-06-09 10:51:27\n",
       "7   3975000   3324  79.2      3.0   53030.30 2018-06-01 20:39:17\n",
       "8   3250000   2789  64.3      2.0   51321.93 2018-05-31 20:07:51\n",
       "9   3250000   2965  64.3      2.0   48989.11 2018-05-25 20:46:58\n",
       "10  5495000   6465  96.0      3.0   56250.00 2018-05-19 12:47:47\n",
       "11  2295000   1743  29.0      1.0   83448.28 2018-05-05 04:43:36\n",
       "12  2495000   2897  47.0      2.0   69361.70 2018-05-11 22:35:39\n",
       "13  4750000   4537  92.0      3.0   53260.87 2018-04-27 01:21:27\n",
       "14  2695000   2595  39.0      2.0   66923.08 2018-04-17 23:06:04\n",
       "15  6650000   4990  97.0      4.0   61855.67 2018-01-13 09:41:44\n",
       "16  2495000   2712  44.0      2.0   62500.00 2018-02-02 14:09:15\n",
       "17  2995000   2979  50.0      2.5   66200.00 2018-01-26 18:30:21\n",
       "18  3650000   2835  60.9      2.0   59934.32 2017-11-17 17:50:10\n",
       "19  4060000   4191  71.0      2.5   57183.10 2017-12-01 15:24:46\n",
       "20  1995000   1880  31.0      2.0   79032.26 2017-11-18 16:56:07\n",
       "21  5400000   3834  93.4      4.0   57815.85 2017-10-27 18:41:18\n",
       "22  3475000   2965  64.0      2.0   54296.88 2017-09-25 14:37:54\n",
       "23  3500000   3018  59.0      2.0   58474.58 2017-10-08 22:00:34\n",
       "24  2575000   2596  39.0      1.5   66666.67 2017-10-13 18:02:02\n",
       "25  2500000   1400  35.0      1.0   73142.86 2017-09-08 15:22:24\n",
       "26  2350000   2232  37.0      2.0   70540.54 2017-09-15 20:52:01\n",
       "27  3495000   2270  56.0      2.0   70535.71 2017-09-15 12:22:35\n",
       "28  5095000   4829  85.0      4.0   64117.65 2017-08-30 13:37:32\n",
       "29  4390000   3806  76.0      3.0   59210.53 2017-07-19 10:24:25\n",
       "30  2595000   2232  37.0      1.0   73378.38 2017-07-28 13:02:18\n",
       "⋮   ⋮         ⋮    ⋮          ⋮     ⋮        ⋮                  \n",
       "129 2395000   2803  47.5      2.0   51157.89 2014-02-07 14:38:41\n",
       "130 2495000   2934  53.0      2.0   47075.47 2013-09-27 12:19:24\n",
       "131 2200000   3563  69.0      2.0   42028.99 2014-01-23 20:33:54\n",
       "132 3500000   3619  76.0      3.0   48684.21 2014-01-29 21:23:11\n",
       "133 4590000   5192  95.0      4.0   50631.58 2013-09-10 12:46:40\n",
       "134 3100000   3806  76.0      3.0   41118.42 2013-08-30 16:40:42\n",
       "135 1495000   1654  31.0      1.5   60806.45 2013-08-23 18:39:31\n",
       "136 2495000   3175  64.0      2.0   39453.12 2013-08-01 18:48:05\n",
       "137 2700000   2965  64.3      2.0   40435.46 2013-07-22 10:32:52\n",
       "138 2490000   1924  54.0      2.0   48425.93 2013-07-27 01:11:31\n",
       "139 1590000   1885  36.0      1.0   48611.11 2013-07-12 21:22:29\n",
       "140 3295000   3746  69.0      3.0   47463.77 2013-05-10 11:43:51\n",
       "141 4995000   5540 107.0      3.5   42056.07 2013-04-13 16:30:17\n",
       "142 2495000   3530  69.0      2.0   37246.38 2013-05-04 01:14:18\n",
       "143 3250000   4130  73.0      3.0   44178.08 2013-04-20 10:44:59\n",
       "144 2295000   2803  47.5      2.0   48315.79 2013-04-13 16:24:01\n",
       "145 3975000   4785  95.0      4.0   41842.11 2013-03-27 18:21:43\n",
       "146 2400000   3140  53.0      2.0   50943.40 2013-03-07 20:07:39\n",
       "147 3495000   4251  98.0      3.0   35714.29 2013-02-22 22:16:16\n",
       "148 2600000   4020  65.0      2.0   41153.85 2013-01-09 17:15:28\n",
       "149 1650000   2034  33.0      1.0   54545.45 2013-03-09 02:02:31\n",
       "150 2295000   2508  47.0      2.0   50212.77 2013-02-22 22:08:08\n",
       "151 1300000   1294  20.0      1.0   65000.00 2013-01-18 05:56:37\n",
       "152 2300000   2835  63.0      2.0   35714.29 2012-10-11 17:37:23\n",
       "153 3550000   2807  80.0      3.0   46625.00 2012-11-23 11:52:27\n",
       "154 1495000   1388  26.0      1.0   56730.77 2012-10-20 07:36:37\n",
       "155 2245000   2455  50.0      2.0   44900.00 2012-10-19 15:32:58\n",
       "156 1450000   1072  23.0      1.0   63043.48 2012-09-14 05:10:08\n",
       "157 2495000   2748  56.0      3.0   39285.71 2012-09-21 12:19:37\n",
       "158 2300000   2455  50.0      2.0   43600.00 2012-09-16 02:33:35\n",
       "    constructionYear objectType booliId soldDate   ⋯ location.position.latitude\n",
       "1   1935             Lägenhet   3263989 2018-11-08 ⋯ 59.37103                  \n",
       "2   1968             Lägenhet   3256231 2018-10-19 ⋯ 59.37124                  \n",
       "3   1936             Lägenhet   3236660 2018-09-27 ⋯ 59.37162                  \n",
       "4   1936             Lägenhet   3224374 2018-09-06 ⋯ 59.37148                  \n",
       "5   1936             Lägenhet   3185496 2018-06-18 ⋯ 59.37216                  \n",
       "6   1936             Lägenhet   3181135 2018-06-21 ⋯ 59.37148                  \n",
       "7   1968             Lägenhet   3175733 2018-06-16 ⋯ 59.37105                  \n",
       "8   1969             Lägenhet   3173741 2018-06-15 ⋯ 59.37095                  \n",
       "9   1968             Lägenhet   3169052 2018-06-10 ⋯ 59.37095                  \n",
       "10  1936             Lägenhet   3154871 2018-06-04 ⋯ 59.37119                  \n",
       "11  1935             Lägenhet   3125674 2018-05-19 ⋯ 59.37205                  \n",
       "12  1935             Lägenhet   3152236 2018-05-18 ⋯ 59.37227                  \n",
       "13  1935             Lägenhet   3138304 2018-05-16 ⋯ 59.37239                  \n",
       "14  1936             Lägenhet   2353845 2018-05-01 ⋯ 59.37205                  \n",
       "15  1935             Lägenhet   3070240 2018-02-15 ⋯ 59.37205                  \n",
       "16  1935             Lägenhet   3082673 2018-02-15 ⋯ 59.37227                  \n",
       "17  1935             Lägenhet   3031449 2018-02-09 ⋯ 59.37164                  \n",
       "18  1968             Lägenhet   3036006 2018-01-09 ⋯ 59.37142                  \n",
       "19  1935             Lägenhet   3052811 2017-12-20 ⋯ 59.37227                  \n",
       "20  1936             Lägenhet   3045712 2017-12-05 ⋯ 59.37119                  \n",
       "21  1968             Lägenhet   3029353 2017-11-11 ⋯ 59.37153                  \n",
       "22  1968             Lägenhet   2406519 2017-11-01 ⋯ 59.37095                  \n",
       "23  1939             Lägenhet   3009093 2017-10-31 ⋯ 59.37139                  \n",
       "24  1934             Lägenhet   3017655 2017-10-29 ⋯ 59.37139                  \n",
       "25  1936             Lägenhet   2405043 2017-10-06 ⋯ 59.37148                  \n",
       "26  1935             Lägenhet   2411825 2017-10-06 ⋯ 59.37178                  \n",
       "27  1935             Lägenhet   2410363 2017-09-28 ⋯ 59.37148                  \n",
       "28  1935             Lägenhet   2389859 2017-09-12 ⋯ 59.37205                  \n",
       "29  1935             Lägenhet   2370691 2017-09-06 ⋯ 59.37178                  \n",
       "30  1939             Lägenhet   2374010 2017-09-01 ⋯ 59.37178                  \n",
       "⋮   ⋮                ⋮          ⋮       ⋮          ⋱ ⋮                         \n",
       "129 1935             Lägenhet   1587338 2014-02-20 ⋯ 59.37205                  \n",
       "130   NA             Lägenhet   1517543 2014-02-10 ⋯ 59.37327                  \n",
       "131 1939             Lägenhet   1579799 2014-02-05 ⋯ 59.37139                  \n",
       "132   NA             Lägenhet   1582459 2014-01-31 ⋯ 59.37178                  \n",
       "133 1936             Lägenhet   1503899 2013-09-30 ⋯ 59.37216                  \n",
       "134 1935             Lägenhet   1496545 2013-09-19 ⋯ 59.37178                  \n",
       "135 1935             Lägenhet   1491078 2013-09-04 ⋯ 59.37227                  \n",
       "136 1935             Lägenhet   1473688 2013-09-03 ⋯ 59.37183                  \n",
       "137   NA             Lägenhet   1467663 2013-08-17 ⋯ 59.37095                  \n",
       "138 1935             Lägenhet   1470193 2013-08-14 ⋯ 59.37099                  \n",
       "139 1968             Lägenhet   1464775 2013-08-02 ⋯ 59.37095                  \n",
       "140 1936             Lägenhet   1417697 2013-05-29 ⋯ 59.37216                  \n",
       "141 1935             Lägenhet   1396179 2013-05-20 ⋯ 59.37148                  \n",
       "142 1937             Lägenhet   1295930 2013-05-19 ⋯ 59.37159                  \n",
       "143 1935             Lägenhet   1401342 2013-05-04 ⋯ 59.37164                  \n",
       "144 1936             Lägenhet   1396102 2013-04-26 ⋯ 59.37205                  \n",
       "145   NA             Lägenhet   1384144 2013-04-14 ⋯ 59.37119                  \n",
       "146 1935             Lägenhet   1370808 2013-04-04 ⋯ 59.37286                  \n",
       "147 1968             Lägenhet   1362997 2013-03-28 ⋯ 59.37105                  \n",
       "148 1935             Lägenhet   1332711 2013-03-28 ⋯ 59.37152                  \n",
       "149 1937             Lägenhet   1371992 2013-03-26 ⋯ 59.37197                  \n",
       "150 1935             Lägenhet   1362979 2013-03-26 ⋯ 59.37227                  \n",
       "151 1939             Lägenhet   1338837 2013-02-09 ⋯ 59.37197                  \n",
       "152 1969             Lägenhet   1290945 2013-01-18 ⋯ 59.37153                  \n",
       "153 1935             Lägenhet   1317745 2012-12-07 ⋯ 59.37099                  \n",
       "154 1935             Lägenhet   1297784 2012-11-30 ⋯ 59.37227                  \n",
       "155 1935             Lägenhet   1296874 2012-10-27 ⋯ 59.37227                  \n",
       "156 1936             Lägenhet   1270599 2012-10-22 ⋯ 59.37119                  \n",
       "157 1935             Lägenhet   1276232 2012-10-09 ⋯ 59.37276                  \n",
       "158 1935             Lägenhet   1272477 2012-10-09 ⋯ 59.37227                  \n",
       "    location.position.longitude location.position.isApproximate\n",
       "1   18.05406                      NA                           \n",
       "2   18.05782                      NA                           \n",
       "3   18.05472                      NA                           \n",
       "4   18.05388                      NA                           \n",
       "5   18.05354                    TRUE                           \n",
       "6   18.05388                      NA                           \n",
       "7   18.05837                    TRUE                           \n",
       "8   18.05863                    TRUE                           \n",
       "9   18.05863                    TRUE                           \n",
       "10  18.05355                      NA                           \n",
       "11  18.05499                    TRUE                           \n",
       "12  18.05566                    TRUE                           \n",
       "13  18.05248                    TRUE                           \n",
       "14  18.05405                    TRUE                           \n",
       "15  18.05499                    TRUE                           \n",
       "16  18.05566                    TRUE                           \n",
       "17  18.05323                    TRUE                           \n",
       "18  18.05760                      NA                           \n",
       "19  18.05566                    TRUE                           \n",
       "20  18.05355                      NA                           \n",
       "21  18.05734                    TRUE                           \n",
       "22  18.05863                    TRUE                           \n",
       "23  18.05509                    TRUE                           \n",
       "24  18.05509                    TRUE                           \n",
       "25  18.05388                      NA                           \n",
       "26  18.05527                      NA                           \n",
       "27  18.05388                      NA                           \n",
       "28  18.05405                    TRUE                           \n",
       "29  18.05527                      NA                           \n",
       "30  18.05527                      NA                           \n",
       "⋮   ⋮                           ⋮                              \n",
       "129 18.05405                    TRUE                           \n",
       "130 18.05322                    TRUE                           \n",
       "131 18.05509                    TRUE                           \n",
       "132 18.05527                      NA                           \n",
       "133 18.05354                    TRUE                           \n",
       "134 18.05527                      NA                           \n",
       "135 18.05566                    TRUE                           \n",
       "136 18.05255                    TRUE                           \n",
       "137 18.05863                    TRUE                           \n",
       "138 18.05489                    TRUE                           \n",
       "139 18.05863                    TRUE                           \n",
       "140 18.05354                    TRUE                           \n",
       "141 18.05388                      NA                           \n",
       "142 18.05520                    TRUE                           \n",
       "143 18.05323                    TRUE                           \n",
       "144 18.05405                    TRUE                           \n",
       "145 18.05355                      NA                           \n",
       "146 18.05426                      NA                           \n",
       "147 18.05837                    TRUE                           \n",
       "148 18.05463                      NA                           \n",
       "149 18.05542                    TRUE                           \n",
       "150 18.05566                    TRUE                           \n",
       "151 18.05542                    TRUE                           \n",
       "152 18.05734                    TRUE                           \n",
       "153 18.05489                    TRUE                           \n",
       "154 18.05566                    TRUE                           \n",
       "155 18.05566                    TRUE                           \n",
       "156 18.05355                      NA                           \n",
       "157 18.05463                    TRUE                           \n",
       "158 18.05566                    TRUE                           \n",
       "    location.region.municipalityName location.region.countyName\n",
       "1   Stockholm                        Stockholms län            \n",
       "2   Stockholm                        Stockholms län            \n",
       "3   Stockholm                        Stockholms län            \n",
       "4   Stockholm                        Stockholms län            \n",
       "5   Stockholm                        Stockholms län            \n",
       "6   Stockholm                        Stockholms län            \n",
       "7   Stockholm                        Stockholms län            \n",
       "8   Stockholm                        Stockholms län            \n",
       "9   Stockholm                        Stockholms län            \n",
       "10  Stockholm                        Stockholms län            \n",
       "11  Stockholm                        Stockholms län            \n",
       "12  Stockholm                        Stockholms län            \n",
       "13  Stockholm                        Stockholms län            \n",
       "14  Stockholm                        Stockholms län            \n",
       "15  Stockholm                        Stockholms län            \n",
       "16  Stockholm                        Stockholms län            \n",
       "17  Stockholm                        Stockholms län            \n",
       "18  Stockholm                        Stockholms län            \n",
       "19  Stockholm                        Stockholms län            \n",
       "20  Stockholm                        Stockholms län            \n",
       "21  Stockholm                        Stockholms län            \n",
       "22  Stockholm                        Stockholms län            \n",
       "23  Stockholm                        Stockholms län            \n",
       "24  Stockholm                        Stockholms län            \n",
       "25  Stockholm                        Stockholms län            \n",
       "26  Stockholm                        Stockholms län            \n",
       "27  Stockholm                        Stockholms län            \n",
       "28  Stockholm                        Stockholms län            \n",
       "29  Stockholm                        Stockholms län            \n",
       "30  Stockholm                        Stockholms län            \n",
       "⋮   ⋮                                ⋮                         \n",
       "129 Stockholm                        Stockholms län            \n",
       "130 Stockholm                        Stockholms län            \n",
       "131 Stockholm                        Stockholms län            \n",
       "132 Stockholm                        Stockholms län            \n",
       "133 Stockholm                        Stockholms län            \n",
       "134 Stockholm                        Stockholms län            \n",
       "135 Stockholm                        Stockholms län            \n",
       "136 Stockholm                        Stockholms län            \n",
       "137 Stockholm                        Stockholms län            \n",
       "138 Stockholm                        Stockholms län            \n",
       "139 Stockholm                        Stockholms län            \n",
       "140 Stockholm                        Stockholms län            \n",
       "141 Stockholm                        Stockholms län            \n",
       "142 Stockholm                        Stockholms län            \n",
       "143 Stockholm                        Stockholms län            \n",
       "144 Stockholm                        Stockholms län            \n",
       "145 Stockholm                        Stockholms län            \n",
       "146 Stockholm                        Stockholms län            \n",
       "147 Stockholm                        Stockholms län            \n",
       "148 Stockholm                        Stockholms län            \n",
       "149 Stockholm                        Stockholms län            \n",
       "150 Stockholm                        Stockholms län            \n",
       "151 Stockholm                        Stockholms län            \n",
       "152 Stockholm                        Stockholms län            \n",
       "153 Stockholm                        Stockholms län            \n",
       "154 Stockholm                        Stockholms län            \n",
       "155 Stockholm                        Stockholms län            \n",
       "156 Stockholm                        Stockholms län            \n",
       "157 Stockholm                        Stockholms län            \n",
       "158 Stockholm                        Stockholms län            \n",
       "    location.distance.ocean source.name                      source.id\n",
       "1   260                     MOHV                               1901865\n",
       "2   218                     Notar                                 1566\n",
       "3   186                     Historiska Hem AB                 65645750\n",
       "4   218                     Notar                                 1566\n",
       "5   166                     Mäklarhuset                            204\n",
       "6   218                     Notar                                 1566\n",
       "7   246                     Svensk Fastighetsförmedling            713\n",
       "8   264                     Innerstadsspecialisten AB             1130\n",
       "9   264                     Notar                                 1566\n",
       "10  255                     Nestor Fastighetsmäkleri         186499846\n",
       "11  136                     Mäklarhuset                            204\n",
       "12  101                     ERA                                   1562\n",
       "13  181                     Notar                                 1566\n",
       "14  164                     Svensk Fastighetsförmedling            713\n",
       "15  136                     Notar                                 1566\n",
       "16  101                     Notar                                 1566\n",
       "17  225                     Fastighetsbyrån                       1573\n",
       "18  196                     Fastighetsbyrån                       1573\n",
       "19  101                     Notar                                 1566\n",
       "20  255                     Notar                                 1566\n",
       "21  354                     Karlsson & Uddare                     1619\n",
       "22  264                     Karlsson & Uddare                     1619\n",
       "23  186                     Notar                                 1566\n",
       "24  186                     Erik Olsson Fastighetsförmedling      1564\n",
       "25  218                     HusmanHagberg                         1610\n",
       "26  161                     Notar                                 1566\n",
       "27  218                     Vision Fastighetsmäkleri AB           1613\n",
       "28  164                     Svensk Fastighetsförmedling            713\n",
       "29  161                     Notar                                 1566\n",
       "30  161                     Svensk Fastighetsförmedling            713\n",
       "⋮   ⋮                       ⋮                                ⋮        \n",
       "129 164                     Svenska Mäklarhuset                58     \n",
       "130  79                     Notar                            1566     \n",
       "131 186                     Fastighetsbyrån                  1573     \n",
       "132 161                     Erik Olsson Fastighetsförmedling 1564     \n",
       "133 166                     Notar                            1566     \n",
       "134 161                     Notar                            1566     \n",
       "135 101                     Notar                            1566     \n",
       "136 225                     Notar                            1566     \n",
       "137 264                     Svensk Fastighetsförmedling       713     \n",
       "138 243                     Notar                            1566     \n",
       "139 264                     Notar                            1566     \n",
       "140 166                     Notar                            1566     \n",
       "141 218                     Notar                            1566     \n",
       "142 184                     Notar                            1566     \n",
       "143 225                     Notar                            1566     \n",
       "144 164                     Notar                            1566     \n",
       "145 255                     Bostadsrättsspecialisten         1572     \n",
       "146  76                     Karlsson & Uddare                1619     \n",
       "147 246                     Notar                            1566     \n",
       "148 198                     Karlsson & Uddare                1619     \n",
       "149 135                     Notar                            1566     \n",
       "150 101                     Notar                            1566     \n",
       "151 135                     Fastighetsbyrån                  1573     \n",
       "152 354                     SkandiaMäklarna                  1570     \n",
       "153 243                     Notar                            1566     \n",
       "154 101                     Notar                            1566     \n",
       "155 101                     Notar                            1566     \n",
       "156 255                     Notar                            1566     \n",
       "157  70                     Notar                            1566     \n",
       "158 101                     Notar                            1566     \n",
       "    source.type source.url                            \n",
       "1   Broker      http://www.mohv.se/                   \n",
       "2   Broker      http://www.notar.se/                  \n",
       "3   Broker      http://historiskahem.se/              \n",
       "4   Broker      http://www.notar.se/                  \n",
       "5   Broker      http://www.maklarhuset.se/            \n",
       "6   Broker      http://www.notar.se/                  \n",
       "7   Broker      http://www.svenskfast.se/             \n",
       "8   Broker      http://www.innerspec.se/              \n",
       "9   Broker      http://www.notar.se/                  \n",
       "10  Broker      https://nestorfastighetsmakleri.se/   \n",
       "11  Broker      http://www.maklarhuset.se/            \n",
       "12  Broker      http://www.erasweden.com/             \n",
       "13  Broker      http://www.notar.se/                  \n",
       "14  Broker      http://www.svenskfast.se/             \n",
       "15  Broker      http://www.notar.se/                  \n",
       "16  Broker      http://www.notar.se/                  \n",
       "17  Broker      http://www.fastighetsbyran.se/        \n",
       "18  Broker      http://www.fastighetsbyran.se/        \n",
       "19  Broker      http://www.notar.se/                  \n",
       "20  Broker      http://www.notar.se/                  \n",
       "21  Broker      http://www.karlssonuddare.se/         \n",
       "22  Broker      http://www.karlssonuddare.se/         \n",
       "23  Broker      http://www.notar.se/                  \n",
       "24  Broker      http://www.erikolsson.se/             \n",
       "25  Broker      http://www.husmanhagberg.se/          \n",
       "26  Broker      http://www.notar.se/                  \n",
       "27  Broker      http://www.visionfastighetsmakleri.se/\n",
       "28  Broker      http://www.svenskfast.se/             \n",
       "29  Broker      http://www.notar.se/                  \n",
       "30  Broker      http://www.svenskfast.se/             \n",
       "⋮   ⋮           ⋮                                     \n",
       "129 Broker      https://www.svenskamaklarhuset.se/    \n",
       "130 Broker      http://www.notar.se/                  \n",
       "131 Broker      http://www.fastighetsbyran.se/        \n",
       "132 Broker      http://www.erikolsson.se/             \n",
       "133 Broker      http://www.notar.se/                  \n",
       "134 Broker      http://www.notar.se/                  \n",
       "135 Broker      http://www.notar.se/                  \n",
       "136 Broker      http://www.notar.se/                  \n",
       "137 Broker      http://www.svenskfast.se/             \n",
       "138 Broker      http://www.notar.se/                  \n",
       "139 Broker      http://www.notar.se/                  \n",
       "140 Broker      http://www.notar.se/                  \n",
       "141 Broker      http://www.notar.se/                  \n",
       "142 Broker      http://www.notar.se/                  \n",
       "143 Broker      http://www.notar.se/                  \n",
       "144 Broker      http://www.notar.se/                  \n",
       "145 Broker      http://www.brspec.se/                 \n",
       "146 Broker      http://www.karlssonuddare.se/         \n",
       "147 Broker      http://www.notar.se/                  \n",
       "148 Broker      http://www.karlssonuddare.se/         \n",
       "149 Broker      http://www.notar.se/                  \n",
       "150 Broker      http://www.notar.se/                  \n",
       "151 Broker      http://www.fastighetsbyran.se/        \n",
       "152 Broker      http://www.skandiamaklarna.se/        \n",
       "153 Broker      http://www.notar.se/                  \n",
       "154 Broker      http://www.notar.se/                  \n",
       "155 Broker      http://www.notar.se/                  \n",
       "156 Broker      http://www.notar.se/                  \n",
       "157 Broker      http://www.notar.se/                  \n",
       "158 Broker      http://www.notar.se/                  "
      ]
     },
     "metadata": {},
     "output_type": "display_data"
    }
   ],
   "source": [
    "updated_data <- data %>% mutate(ppsqm=soldPrice/livingArea) %>% select(c(1:4),ppsqm,everything())\n",
    "updated_data"
   ]
  },
  {
   "cell_type": "markdown",
   "id": "20baca1b-3d0d-4b5d-91c1-290adf4aaf80",
   "metadata": {},
   "source": [
    "# 2, Top 5 expensive (stripped off some variables)"
   ]
  },
  {
   "cell_type": "code",
   "execution_count": 7,
   "id": "eb3e6e74-8dcf-4749-b5d9-3a848295989e",
   "metadata": {
    "vscode": {
     "languageId": "r"
    }
   },
   "outputs": [
    {
     "data": {
      "text/plain": [
       "\n",
       "\n",
       "| booliId| soldPrice| rent| livingArea| rooms|     ppsqm|\n",
       "|-------:|---------:|----:|----------:|-----:|---------:|\n",
       "| 2018259|   2500000| 1464|       24.0|     1| 104166.67|\n",
       "| 2125576|   2450000| 1464|       24.0|     1| 102083.33|\n",
       "| 2078171|   2300000| 1374|       23.0|     1| 100000.00|\n",
       "| 2330886|   2210000| 1144|       25.0|     1|  88400.00|\n",
       "| 2067384|   2300000| 1522|       26.9|     1|  85501.86|"
      ]
     },
     "metadata": {},
     "output_type": "display_data"
    }
   ],
   "source": [
    "sorted_by_price <- updated_data %>% arrange(desc(ppsqm)) %>% select(booliId,soldPrice,c(rent:ppsqm))\n",
    "df <- head(sorted_by_price,5)\n",
    "kable(df)"
   ]
  },
  {
   "cell_type": "markdown",
   "id": "5bfc6e53-bb28-485b-90ab-13e9a195857f",
   "metadata": {},
   "source": [
    "# 3, Mean price per square-meter in Ekhagen:\n"
   ]
  },
  {
   "cell_type": "code",
   "execution_count": 8,
   "id": "b3d43244-2ea5-486b-a09e-7b3a000c9c4b",
   "metadata": {
    "vscode": {
     "languageId": "r"
    }
   },
   "outputs": [
    {
     "data": {
      "text/html": [
       "58759.3827600817"
      ],
      "text/latex": [
       "58759.3827600817"
      ],
      "text/markdown": [
       "58759.3827600817"
      ],
      "text/plain": [
       "[1] 58759.38"
      ]
     },
     "metadata": {},
     "output_type": "display_data"
    }
   ],
   "source": [
    "mean_ekhagen <- mean(updated_data$ppsqm, na.rm = TRUE) \n",
    "mean_ekhagen"
   ]
  },
  {
   "cell_type": "markdown",
   "id": "c4752e3c-6f3f-412a-be64-a8ac0c6b1430",
   "metadata": {},
   "source": [
    "# Exercise 2\n",
    " Loading data for 2018 votes:"
   ]
  },
  {
   "cell_type": "code",
   "execution_count": 10,
   "id": "55921776-02dd-48d7-993a-0d7bac738dd5",
   "metadata": {
    "vscode": {
     "languageId": "r"
    }
   },
   "outputs": [],
   "source": [
    "votes <- read.csv(\"/Users/sebastianbaarsen/Documents/GitHub/su-mt4007/Homeworks/Homework_2/data/2018_R_per_kommun.csv\",sep = \";\")\n",
    "votes <- tibble(votes)"
   ]
  },
  {
   "cell_type": "markdown",
   "id": "708e7695-70c7-423e-8661-35593d33e142",
   "metadata": {},
   "source": [
    "# 2.1"
   ]
  },
  {
   "cell_type": "code",
   "execution_count": 11,
   "id": "f0eb9bc9-f7f5-4445-8a30-51c087962a06",
   "metadata": {
    "vscode": {
     "languageId": "r"
    }
   },
   "outputs": [
    {
     "data": {
      "text/html": [
       "<span style=white-space:pre-wrap>'Legitimate votes  in Stockholm: 1426237 st'</span>"
      ],
      "text/latex": [
       "'Legitimate votes  in Stockholm: 1426237 st'"
      ],
      "text/markdown": [
       "<span style=white-space:pre-wrap>'Legitimate votes  in Stockholm: 1426237 st'</span>"
      ],
      "text/plain": [
       "[1] \"Legitimate votes  in Stockholm: 1426237 st\""
      ]
     },
     "metadata": {},
     "output_type": "display_data"
    }
   ],
   "source": [
    "stockholm <- votes %>% filter(LÄNSNAMN == 'Stockholms län')\n",
    "res <-sum(stockholm$RÖSTER.GILTIGA)\n",
    "\n",
    "paste(\"Legitimate votes  in Stockholm:\",res,'st')"
   ]
  },
  {
   "cell_type": "markdown",
   "id": "62213218-e5f0-4dd4-990a-34b009832f87",
   "metadata": {},
   "source": [
    "# 2.2, SD have the highest voting percentage in Sjöbo.\n"
   ]
  },
  {
   "cell_type": "code",
   "execution_count": 12,
   "id": "b18c343b-ffc1-433a-8cdf-c626eed4602b",
   "metadata": {
    "vscode": {
     "languageId": "r"
    }
   },
   "outputs": [
    {
     "data": {
      "text/plain": [
       "\n",
       "\n",
       "|LÄNSNAMN  |KOMMUNNAMN  |     M|C    |L    |KD    |S     |V    |MP   |SD    |FI   |\n",
       "|:---------|:-----------|-----:|:----|:----|:-----|:-----|:----|:----|:-----|:----|\n",
       "|Skåne län |Sjöbo       | 39.23|7,05 |2,92 |6,17  |19,09 |3,31 |2,42 |39,23 |0,52 |\n",
       "|Skåne län |Bjuv        | 38.36|3,61 |2,61 |4,2   |30,37 |3,63 |1,83 |38,36 |0,2  |\n",
       "|Skåne län |Bromölla    | 38.23|3,28 |3,46 |4,58  |31,01 |3,39 |1,63 |38,23 |0,23 |\n",
       "|Skåne län |Klippan     | 36.64|5,81 |3,09 |6,75  |24,18 |4,02 |2,25 |36,64 |0,25 |\n",
       "|Skåne län |Örkelljunga | 35.53|6,72 |2,66 |12,13 |20,8  |2,91 |2,34 |35,53 |0,16 |\n",
       "|Skåne län |Hörby       | 35.43|8,34 |4,32 |6,56  |19,45 |4,46 |2,54 |35,43 |0,5  |"
      ]
     },
     "metadata": {},
     "output_type": "display_data"
    }
   ],
   "source": [
    "# (must transform vote-proportion from str to numeric)\n",
    "by_sd_popularity <- votes %>%\n",
    "  mutate(M= as.numeric(gsub( \",\", \".\", SD))) %>%\n",
    "  arrange(desc(M)) %>%\n",
    "  select(LÄNSNAMN:FI)\n",
    "\n",
    "kable(head(by_sd_popularity))"
   ]
  },
  {
   "cell_type": "markdown",
   "id": "5e3103ac-9c04-46f3-bc4c-e69dbdd1d472",
   "metadata": {},
   "source": [
    "# 2,3"
   ]
  },
  {
   "cell_type": "code",
   "execution_count": 14,
   "id": "745130e1-920a-43d0-ad49-df05b1726daa",
   "metadata": {
    "vscode": {
     "languageId": "r"
    }
   },
   "outputs": [
    {
     "data": {
      "text/plain": [
       "\n",
       "\n",
       "|LÄNSNAMN       |KOMMUNNAMN | VALDELTAGANDE|\n",
       "|:--------------|:----------|-------------:|\n",
       "|Skåne län      |Lomma      |         93.86|\n",
       "|Jönköpings län |Habo       |         93.35|\n",
       "|Skåne län      |Vellinge   |         93.13|"
      ]
     },
     "metadata": {},
     "output_type": "display_data"
    }
   ],
   "source": [
    "by_participation <- votes %>% \n",
    "  select(LÄNSNAMN:KOMMUNNAMN,VALDELTAGANDE) %>% \n",
    "  mutate(VALDELTAGANDE= as.numeric(gsub(',','.',VALDELTAGANDE))) %>% \n",
    "  arrange(desc(VALDELTAGANDE))\n",
    "kable(head(by_participation,3))"
   ]
  },
  {
   "cell_type": "markdown",
   "id": "be1bc1f0-5039-48f2-a851-6df655791a8f",
   "metadata": {},
   "source": [
    "# Exercise 3"
   ]
  },
  {
   "cell_type": "markdown",
   "id": "38bc0c31-9ce1-4f5d-9e4b-c368ffd2356f",
   "metadata": {},
   "source": [
    "Loading stroke-data"
   ]
  },
  {
   "cell_type": "code",
   "execution_count": 17,
   "id": "e1775be7-2286-4c63-8bce-5f413aa2b13a",
   "metadata": {
    "vscode": {
     "languageId": "r"
    }
   },
   "outputs": [],
   "source": [
    "stroke <- read.csv('/Users/sebastianbaarsen/Documents/GitHub/su-mt4007/Homeworks/Homework_2/data/stroke-data.csv')"
   ]
  },
  {
   "cell_type": "code",
   "execution_count": 19,
   "id": "e1bce521-9360-4419-80e5-1fdbc0cb7b1b",
   "metadata": {
    "scrolled": true,
    "vscode": {
     "languageId": "r"
    }
   },
   "outputs": [
    {
     "data": {
      "text/html": [
       "<table class=\"dataframe\">\n",
       "<caption>A tibble: 2 × 3</caption>\n",
       "<thead>\n",
       "\t<tr><th scope=col>work_type</th><th scope=col>n()</th><th scope=col>strokes</th></tr>\n",
       "\t<tr><th scope=col>&lt;chr&gt;</th><th scope=col>&lt;int&gt;</th><th scope=col>&lt;dbl&gt;</th></tr>\n",
       "</thead>\n",
       "<tbody>\n",
       "\t<tr><td>Private      </td><td>2925</td><td>0.05094017</td></tr>\n",
       "\t<tr><td>Self-employed</td><td> 819</td><td>0.07936508</td></tr>\n",
       "</tbody>\n",
       "</table>\n"
      ],
      "text/latex": [
       "A tibble: 2 × 3\n",
       "\\begin{tabular}{lll}\n",
       " work\\_type & n() & strokes\\\\\n",
       " <chr> & <int> & <dbl>\\\\\n",
       "\\hline\n",
       "\t Private       & 2925 & 0.05094017\\\\\n",
       "\t Self-employed &  819 & 0.07936508\\\\\n",
       "\\end{tabular}\n"
      ],
      "text/markdown": [
       "\n",
       "A tibble: 2 × 3\n",
       "\n",
       "| work_type &lt;chr&gt; | n() &lt;int&gt; | strokes &lt;dbl&gt; |\n",
       "|---|---|---|\n",
       "| Private       | 2925 | 0.05094017 |\n",
       "| Self-employed |  819 | 0.07936508 |\n",
       "\n"
      ],
      "text/plain": [
       "  work_type     n()  strokes   \n",
       "1 Private       2925 0.05094017\n",
       "2 Self-employed  819 0.07936508"
      ]
     },
     "metadata": {},
     "output_type": "display_data"
    }
   ],
   "source": [
    "by_work <- stroke %>% \n",
    "  filter(work_type %in% c('Private','Self-employed')) %>% \n",
    "  group_by(work_type) %>% \n",
    "  summarize(n(),strokes = mean(stroke, na.rm = TRUE))\n",
    "by_work\n"
   ]
  },
  {
   "cell_type": "code",
   "execution_count": null,
   "id": "1a48cc5b-23c9-4f12-a20d-d4f26ab4987f",
   "metadata": {
    "vscode": {
     "languageId": "r"
    }
   },
   "outputs": [],
   "source": []
  }
 ],
 "metadata": {
  "kernelspec": {
   "display_name": "R",
   "language": "R",
   "name": "ir"
  },
  "language_info": {
   "codemirror_mode": "r",
   "file_extension": ".r",
   "mimetype": "text/x-r-source",
   "name": "R",
   "pygments_lexer": "r",
   "version": "4.1.3"
  }
 },
 "nbformat": 4,
 "nbformat_minor": 5
}
