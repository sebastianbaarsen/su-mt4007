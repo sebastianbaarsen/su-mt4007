{
 "cells": [
  {
   "cell_type": "markdown",
   "id": "272bad7f-34a1-43bd-9a73-9815a4432604",
   "metadata": {},
   "source": [
    "# Homework 1"
   ]
  },
  {
   "cell_type": "markdown",
   "id": "b08dfab6-d993-4979-98f1-e95706549b4d",
   "metadata": {},
   "source": [
    "My name is Sebastian, I’m 28 years old, and I’m in my third year of a bachelor’s program in mathematical statistics and economics. I have a decent amount of experience in data science, particularly in mathematics, statistics, and optimization, but I lack some programming skills. I want to improve my knowledge of Python and R, especially to visualize the results i obtained."
   ]
  },
  {
   "cell_type": "code",
   "execution_count": null,
   "id": "4349a142-7e95-4d98-b11f-79f9e048c08e",
   "metadata": {},
   "outputs": [],
   "source": []
  }
 ],
 "metadata": {
  "kernelspec": {
   "display_name": "Python 3",
   "language": "python",
   "name": "python3"
  },
  "language_info": {
   "codemirror_mode": {
    "name": "ipython",
    "version": 3
   },
   "file_extension": ".py",
   "mimetype": "text/x-python",
   "name": "python",
   "nbconvert_exporter": "python",
   "pygments_lexer": "ipython3",
   "version": "3.11.1"
  }
 },
 "nbformat": 4,
 "nbformat_minor": 5
}
